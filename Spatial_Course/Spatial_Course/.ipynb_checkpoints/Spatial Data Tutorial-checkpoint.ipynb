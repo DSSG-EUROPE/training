{
 "cells": [
  {
   "cell_type": "markdown",
   "metadata": {},
   "source": [
    "# Spatial data with Python Tutorial"
   ]
  },
  {
   "cell_type": "markdown",
   "metadata": {},
   "source": [
    "### Virtual environments in Anaconda Python\n",
    "\n",
    "Fist off all, as may of you may now, a lot of libraries have certain restrictions and conflicts between them. For that reason is a good to create *Virtual Environments* (`virtualenvs`). This environments allow packages to run in a \"controled\" environments (i.e. only with the specified packages and Python versions). Before open a Jupyter Notebook, you can run in your terminal, we are going to create a new virtual environment: \n",
    "\n",
    "`$ conda create <name of environment> python=<python version> <packages>`\n",
    "\n",
    "- If you leave the packages flag blank, conda is going to create a pretty simple environment with the desired version of python and some basic libraries (like pip).\n",
    "\n",
    "- The usual Python versions are 2.7 and 3.5. Some packages are more stable in older versions.\n",
    "\n",
    "- You can check out you available `virtualenvs` by running: `$ conda info -e`. Also you can delete a `virtualenv` by using: `$ conda delete <name of the environment> --all`\n",
    "\n",
    "Now that you have a new environment you can run things on it using: `$ source activate <name of environment>`. The shell now have a new head. To exit the environment you run: `$ source deactivate` \n",
    "\n",
    "\n"
   ]
  },
  {
   "cell_type": "markdown",
   "metadata": {},
   "source": [
    "### Let's get started with Spatial! "
   ]
  },
  {
   "cell_type": "markdown",
   "metadata": {},
   "source": [
    "There are several packages/libraries in Python to read/write and explore spatial data. This Notebook will use `fiona` in conjunction with `geopandas`. You can first install this libraries using: `$ conda -c conda-forge install geopandas fiona`. Now you can open a new Notebook inside the `virtualenv`. "
   ]
  },
  {
   "cell_type": "code",
   "execution_count": 8,
   "metadata": {
    "collapsed": false
   },
   "outputs": [],
   "source": [
    "import os\n",
    "import pandas as pd\n",
    "import geopandas as gpd\n",
    "import fiona"
   ]
  },
  {
   "cell_type": "markdown",
   "metadata": {},
   "source": [
    "We can open shapefiles (.shp) using the following commands. `Geopandas` will allow us to visualize the geometries and its atributes inside a Pandas DataFrame (in this case is called `geodataframe`). As is, you can filter, select and manage it as any DF (is like R!)."
   ]
  },
  {
   "cell_type": "code",
   "execution_count": 15,
   "metadata": {
    "collapsed": false
   },
   "outputs": [
    {
     "data": {
      "text/html": [
       "<div>\n",
       "<style>\n",
       "    .dataframe thead tr:only-child th {\n",
       "        text-align: right;\n",
       "    }\n",
       "\n",
       "    .dataframe thead th {\n",
       "        text-align: left;\n",
       "    }\n",
       "\n",
       "    .dataframe tbody tr th {\n",
       "        vertical-align: top;\n",
       "    }\n",
       "</style>\n",
       "<table border=\"1\" class=\"dataframe\">\n",
       "  <thead>\n",
       "    <tr style=\"text-align: right;\">\n",
       "      <th></th>\n",
       "      <th>AREA</th>\n",
       "      <th>CLASEMUN</th>\n",
       "      <th>DPTO</th>\n",
       "      <th>HECTARES</th>\n",
       "      <th>MPIO</th>\n",
       "      <th>MPIOS</th>\n",
       "      <th>NOMBRE_CAB</th>\n",
       "      <th>NOMBRE_DPT</th>\n",
       "      <th>NOMBRE_MPI</th>\n",
       "      <th>OF_REG</th>\n",
       "      <th>PERIMETER</th>\n",
       "      <th>REG_ZONAS</th>\n",
       "      <th>WCOLGEN021</th>\n",
       "      <th>WCOLGEN02_</th>\n",
       "      <th>ZONA</th>\n",
       "      <th>geometry</th>\n",
       "    </tr>\n",
       "  </thead>\n",
       "  <tbody>\n",
       "    <tr>\n",
       "      <th>0</th>\n",
       "      <td>7.516766e+09</td>\n",
       "      <td>CM</td>\n",
       "      <td>44</td>\n",
       "      <td>751676.579</td>\n",
       "      <td>847</td>\n",
       "      <td>44847</td>\n",
       "      <td>URIBIA</td>\n",
       "      <td>LA GUAJIRA</td>\n",
       "      <td>URIBIA</td>\n",
       "      <td>DABAR</td>\n",
       "      <td>475636.130236</td>\n",
       "      <td>DABARZONA06</td>\n",
       "      <td>566</td>\n",
       "      <td>2</td>\n",
       "      <td>ZONA06</td>\n",
       "      <td>POLYGON ((1290154.98018801 1796649.424862138, ...</td>\n",
       "    </tr>\n",
       "    <tr>\n",
       "      <th>1</th>\n",
       "      <td>1.624663e+09</td>\n",
       "      <td>CM</td>\n",
       "      <td>44</td>\n",
       "      <td>162466.283</td>\n",
       "      <td>560</td>\n",
       "      <td>44560</td>\n",
       "      <td>MANAURE</td>\n",
       "      <td>LA GUAJIRA</td>\n",
       "      <td>MANAURE</td>\n",
       "      <td>DABAR</td>\n",
       "      <td>195961.387498</td>\n",
       "      <td>DABARZONA06</td>\n",
       "      <td>564</td>\n",
       "      <td>5</td>\n",
       "      <td>ZONA06</td>\n",
       "      <td>POLYGON ((1187687.338691119 1800431.819998237,...</td>\n",
       "    </tr>\n",
       "    <tr>\n",
       "      <th>2</th>\n",
       "      <td>1.779934e+09</td>\n",
       "      <td>CM</td>\n",
       "      <td>44</td>\n",
       "      <td>177993.385</td>\n",
       "      <td>430</td>\n",
       "      <td>44430</td>\n",
       "      <td>MAICAO</td>\n",
       "      <td>LA GUAJIRA</td>\n",
       "      <td>MAICAO</td>\n",
       "      <td>DABAR</td>\n",
       "      <td>272174.538806</td>\n",
       "      <td>DABARZONA06</td>\n",
       "      <td>563</td>\n",
       "      <td>6</td>\n",
       "      <td>ZONA06</td>\n",
       "      <td>POLYGON ((1198031.055217186 1767210.475643945,...</td>\n",
       "    </tr>\n",
       "    <tr>\n",
       "      <th>3</th>\n",
       "      <td>3.109950e+09</td>\n",
       "      <td>CM</td>\n",
       "      <td>44</td>\n",
       "      <td>310995.043</td>\n",
       "      <td>001</td>\n",
       "      <td>44001</td>\n",
       "      <td>RIOHACHA</td>\n",
       "      <td>LA GUAJIRA</td>\n",
       "      <td>RIOHACHA</td>\n",
       "      <td>DABAR</td>\n",
       "      <td>267346.564817</td>\n",
       "      <td>DABARZONA06</td>\n",
       "      <td>559</td>\n",
       "      <td>7</td>\n",
       "      <td>ZONA06</td>\n",
       "      <td>POLYGON ((1156062.701683688 1755981.215984707,...</td>\n",
       "    </tr>\n",
       "    <tr>\n",
       "      <th>4</th>\n",
       "      <td>1.999866e+09</td>\n",
       "      <td>CM</td>\n",
       "      <td>44</td>\n",
       "      <td>199986.641</td>\n",
       "      <td>090</td>\n",
       "      <td>44090</td>\n",
       "      <td>DIBULLA</td>\n",
       "      <td>LA GUAJIRA</td>\n",
       "      <td>DIBULLA</td>\n",
       "      <td>DABAR</td>\n",
       "      <td>198794.872345</td>\n",
       "      <td>DABARZONA06</td>\n",
       "      <td>1052</td>\n",
       "      <td>8</td>\n",
       "      <td>ZONA06</td>\n",
       "      <td>POLYGON ((1095571.712708517 1750924.09566785, ...</td>\n",
       "    </tr>\n",
       "  </tbody>\n",
       "</table>\n",
       "</div>"
      ],
      "text/plain": [
       "           AREA CLASEMUN DPTO    HECTARES MPIO  MPIOS NOMBRE_CAB  NOMBRE_DPT  \\\n",
       "0  7.516766e+09       CM   44  751676.579  847  44847     URIBIA  LA GUAJIRA   \n",
       "1  1.624663e+09       CM   44  162466.283  560  44560    MANAURE  LA GUAJIRA   \n",
       "2  1.779934e+09       CM   44  177993.385  430  44430     MAICAO  LA GUAJIRA   \n",
       "3  3.109950e+09       CM   44  310995.043  001  44001   RIOHACHA  LA GUAJIRA   \n",
       "4  1.999866e+09       CM   44  199986.641  090  44090    DIBULLA  LA GUAJIRA   \n",
       "\n",
       "  NOMBRE_MPI OF_REG      PERIMETER    REG_ZONAS  WCOLGEN021  WCOLGEN02_  \\\n",
       "0     URIBIA  DABAR  475636.130236  DABARZONA06         566           2   \n",
       "1    MANAURE  DABAR  195961.387498  DABARZONA06         564           5   \n",
       "2     MAICAO  DABAR  272174.538806  DABARZONA06         563           6   \n",
       "3   RIOHACHA  DABAR  267346.564817  DABARZONA06         559           7   \n",
       "4    DIBULLA  DABAR  198794.872345  DABARZONA06        1052           8   \n",
       "\n",
       "     ZONA                                           geometry  \n",
       "0  ZONA06  POLYGON ((1290154.98018801 1796649.424862138, ...  \n",
       "1  ZONA06  POLYGON ((1187687.338691119 1800431.819998237,...  \n",
       "2  ZONA06  POLYGON ((1198031.055217186 1767210.475643945,...  \n",
       "3  ZONA06  POLYGON ((1156062.701683688 1755981.215984707,...  \n",
       "4  ZONA06  POLYGON ((1095571.712708517 1750924.09566785, ...  "
      ]
     },
     "execution_count": 15,
     "metadata": {},
     "output_type": "execute_result"
    }
   ],
   "source": [
    "#Open a shapefile in from file\n",
    "colombian_mpios = gpd.read_file(\"mpio_colombia/mpio_84.shp\")\n",
    "type(colombian_mpios)\n",
    "colombian_mpios.head()"
   ]
  },
  {
   "cell_type": "markdown",
   "metadata": {},
   "source": [
    "There is some "
   ]
  }
 ],
 "metadata": {
  "kernelspec": {
   "display_name": "Python 3",
   "language": "python",
   "name": "python3"
  },
  "language_info": {
   "codemirror_mode": {
    "name": "ipython",
    "version": 3
   },
   "file_extension": ".py",
   "mimetype": "text/x-python",
   "name": "python",
   "nbconvert_exporter": "python",
   "pygments_lexer": "ipython3",
   "version": "3.5.2"
  }
 },
 "nbformat": 4,
 "nbformat_minor": 2
}

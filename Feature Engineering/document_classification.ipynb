{
 "cells": [
  {
   "cell_type": "markdown",
   "metadata": {},
   "source": [
    "# Document Classification \n",
    "There are a set of documents under two different categories. We perform supervised\n",
    "learning to classify each document into the corret category. "
   ]
  },
  {
   "cell_type": "code",
   "execution_count": 15,
   "metadata": {
    "collapsed": false,
    "scrolled": true
   },
   "outputs": [
    {
     "name": "stdout",
     "output_type": "stream",
     "text": [
      "Loading all documents from the folder into the memory\n",
      "In total 42 documents loaded\n",
      "21 documents in business categories\n",
      "21 documents in sports categories\n"
     ]
    }
   ],
   "source": [
    "from sklearn.datasets import load_files\n",
    "from sklearn.feature_extraction.text import CountVectorizer, TfidfVectorizer\n",
    "from sklearn.cross_validation import train_test_split\n",
    "from sklearn.ensemble import RandomForestClassifier, VotingClassifier\n",
    "from sklearn.linear_model import LogisticRegression\n",
    "from sklearn.naive_bayes import BernoulliNB, MultinomialNB\n",
    "from sklearn import metrics\n",
    "from sklearn.model_selection import cross_val_score, GridSearchCV\n",
    "from sklearn.pipeline import Pipeline\n",
    "from sklearn.svm import LinearSVC\n",
    "from pprint import pprint\n",
    "import numpy as np\n",
    "import re\n",
    "import os\n",
    "from time import time\n",
    "import matplotlib.pyplot as plt\n",
    "import pickle\n",
    "\n",
    "folder_path = \"data/articles_classified\"\n",
    "assert os.path.exists(folder_path), \"The folder is not found\"\n",
    "\n",
    "try:\n",
    "    print(\"Loading all documents from the folder into the memory\")\n",
    "    documents = load_files(folder_path, shuffle=True, encoding='utf-8')\n",
    "except FileNotFoundError:\n",
    "    print(\"Cannot load the files at '%s'\" % folder_path)\n",
    "else:\n",
    "    print(\"In total %d documents loaded\" % len(documents.data))     \n",
    "    \n",
    "for i, e in enumerate(documents.target_names):\n",
    "    print(\"%d documents in %s categories\" % \n",
    "          (len(documents.target[documents.target == i]), e))"
   ]
  },
  {
   "cell_type": "markdown",
   "metadata": {},
   "source": [
    "## Preprecossing text data \n",
    "We preprocess the raw text and further extract, vectorize\n",
    "and normalize features for classification task."
   ]
  },
  {
   "cell_type": "code",
   "execution_count": 2,
   "metadata": {
    "collapsed": false
   },
   "outputs": [],
   "source": [
    "for i in range(len(documents.data)):\n",
    "    # Normalize words into lowercase\n",
    "    documents.data[i] = documents.data[i].lower()\n",
    "\n",
    "    # Remove punctuations, linebreaks, numbers and short words\n",
    "    symbols = ['[-./?!,\":;()|$\\'\\”]', \n",
    "                '[\\r?\\n]+', '[0-9]+', \n",
    "                r'\\b[a-zA-Z]{1,3}\\b']\n",
    "    for symbol in symbols :\n",
    "        documents.data[i] = re.sub(symbol, ' ', documents.data[i])"
   ]
  },
  {
   "cell_type": "code",
   "execution_count": 3,
   "metadata": {
    "collapsed": false
   },
   "outputs": [],
   "source": [
    "# Split the data into a training set and a test set \n",
    "X_train, X_test, y_train, y_test = train_test_split(\n",
    "    documents.data, documents.target, train_size = 0.8, random_state=None)"
   ]
  },
  {
   "cell_type": "markdown",
   "metadata": {},
   "source": [
    "We tokenize the documents into words, and then extract two types of features as\n",
    "bag-of-words (BoW) model.\n",
    "1: CountVectorizer collects token's occurence counts\n",
    "2: TfidfVectorizer collects token's term-frequency and inverted document-frequency\n",
    "We use the default ngram_range=(1,1), and can set (1,2) to account for bigrams.\n",
    "However, given our limited sample size and already large feature dimensions, bigrams\n",
    "or n-grams can be useful for classification tasks that also account for the order of\n",
    "words for larger text corpus."
   ]
  },
  {
   "cell_type": "code",
   "execution_count": 4,
   "metadata": {
    "collapsed": false
   },
   "outputs": [
    {
     "name": "stdout",
     "output_type": "stream",
     "text": [
      "Number of sample: 42, number of features: 1646\n"
     ]
    }
   ],
   "source": [
    "# Tokenizating text and filtering stopwords, rare words and common words\n",
    "# CountVectorizer collects token's occurence counts\n",
    "vectorizer = CountVectorizer(lowercase=True, stop_words='english',\n",
    "                             min_df=2, max_df=0.9)\n",
    "\n",
    "X = vectorizer.fit_transform(documents.data)\n",
    "print(\"Number of sample: %d, number of features: %d\" % X.shape)\n",
    "\n",
    "# TfidfVectorizer collects TF-IDF measures\n",
    "vectorizer_tfidf = TfidfVectorizer(lowercase=True, stop_words='english',\n",
    "                                  min_df=2, max_df=0.9)\n",
    "X_tfidf = vectorizer_tfidf.fit_transform(documents.data)"
   ]
  },
  {
   "cell_type": "markdown",
   "metadata": {},
   "source": [
    "## Classifying news articles\n",
    "Our task is a typical binary classification with balanced samples in two classes.\n",
    "We use the following classifiers that were commonly used in similar settings to \n",
    "perform the task:\n",
    "1. Logistic Regression\n",
    "2. Naive Bayes (Multinomial, Bernoulli)\n",
    "4. Linear SVM  \n",
    "5. Random Forest"
   ]
  },
  {
   "cell_type": "markdown",
   "metadata": {},
   "source": [
    "We fit the training set with each classifier. To reduce overfitting, we introduce \n",
    "regularization terms to penalize the loss function. We use exhaustive grid search \n",
    "to choose hyperparameters for each classifier that has the best cross validation \n",
    "score."
   ]
  },
  {
   "cell_type": "code",
   "execution_count": 5,
   "metadata": {
    "collapsed": false
   },
   "outputs": [
    {
     "name": "stdout",
     "output_type": "stream",
     "text": [
      "The best estimator obtained is: \n",
      "LogisticRegression(C=0.001, class_weight=None, dual=False, fit_intercept=True,\n",
      "          intercept_scaling=1, max_iter=100, multi_class='ovr', n_jobs=1,\n",
      "          penalty='l2', random_state=None, solver='liblinear', tol=0.0001,\n",
      "          verbose=0, warm_start=False)\n",
      "The best params obtained are: {'clf__C': 0.001, 'clf__penalty': 'l2'}\n",
      "Time used for training and testing: 1.44s\n",
      "Classification report:\n",
      "             precision    recall  f1-score   support\n",
      "\n",
      "   business       1.00      1.00      1.00         4\n",
      "     sports       1.00      1.00      1.00         5\n",
      "\n",
      "avg / total       1.00      1.00      1.00         9\n",
      "\n",
      "Confusion matrix:\n",
      "[[4 0]\n",
      " [0 5]]\n",
      "Test accuracy: 1.00\n",
      "Cross-validation accuracy: 0.95 (+/- 0.10)\n"
     ]
    }
   ],
   "source": [
    "# Logistic Regression Classifer\n",
    "pipeline_lr = Pipeline([\n",
    "        ('vect', vectorizer),\n",
    "        ('clf', LogisticRegression(multi_class='ovr'))\n",
    "    ])\n",
    "\n",
    "start = time()\n",
    "\n",
    "# Set the dictionairy of hyperparameters\n",
    "parameters_logit = {\n",
    "    'clf__C': [1e-3, 1e-2, 1e-1, 1.0, 10.0],\n",
    "    'clf__penalty': ['l1', 'l2']\n",
    "    }\n",
    "        \n",
    "# Perform grid search over parameter space and obtain the best estimator\n",
    "clf_grid_logit = GridSearchCV(pipeline_lr, \n",
    "                              parameters_logit, \n",
    "                              n_jobs=-1).fit(X_train, y_train)\n",
    "clf_logit = clf_grid_logit.best_estimator_\n",
    "print(\"The best estimator obtained is: \")\n",
    "print(clf_logit._final_estimator)\n",
    "print(\"The best params obtained are: %s\" % clf_grid_logit.best_params_)\n",
    "\n",
    "# Predict the outcome on the test set\n",
    "y_predicted = clf_logit.predict(X_test)\n",
    "\n",
    "# Print the training and testing time\n",
    "print(\"Time used for training and testing: %0.2fs\" % (time() - start))\n",
    "\n",
    "# Print the classification report\n",
    "print(\"Classification report:\")\n",
    "print(metrics.classification_report(y_test, y_predicted, target_names=documents.target_names))\n",
    "# Print and plot the confusion matrix\n",
    "print(\"Confusion matrix:\")\n",
    "cm = metrics.confusion_matrix(y_test, y_predicted)\n",
    "print(cm)\n",
    "\n",
    "#Print the accuracy on left-out test set  \n",
    "print(\"Test accuracy: %0.2f\" % clf_logit.fit(X_train, y_train).score(X_test, y_test)) \n",
    "scores = cross_val_score(clf_logit, X_train, y_train, cv=10)\n",
    "print(\"Cross-validation accuracy: %0.2f (+/- %0.2f)\" % (scores.mean(), scores.std()))"
   ]
  },
  {
   "cell_type": "markdown",
   "metadata": {},
   "source": [
    "We can fit other classifiers in a similar fashion. Specifically, we can build\n",
    "a ''pipeline'' for each classifier to allow for chaining multiple transformation\n",
    "and estimations."
   ]
  },
  {
   "cell_type": "code",
   "execution_count": 6,
   "metadata": {
    "collapsed": false
   },
   "outputs": [
    {
     "name": "stdout",
     "output_type": "stream",
     "text": [
      "The best estimator obtained for Multinomial Naive Bayes is: \n",
      "MultinomialNB(alpha=0.001, class_prior=None, fit_prior=True)\n",
      "The best params obtained is: {'clf__alpha': 0.001}\n",
      "Time used for training and testing: 0.83s\n",
      "Classification report:\n",
      "             precision    recall  f1-score   support\n",
      "\n",
      "   business       1.00      1.00      1.00         4\n",
      "     sports       1.00      1.00      1.00         5\n",
      "\n",
      "avg / total       1.00      1.00      1.00         9\n",
      "\n",
      "Confusion matrix:\n",
      "[[4 0]\n",
      " [0 5]]\n",
      "Test accuracy: 1.00\n",
      "Cross-validation accuracy: 0.97 (+/- 0.07)\n"
     ]
    }
   ],
   "source": [
    "# Multinomial Naive Bayes as classifier\n",
    "pipeline_multinomial_bayes = Pipeline([\n",
    "        ('vect', vectorizer),\n",
    "        ('clf', MultinomialNB())\n",
    "    ])\n",
    "\n",
    "start = time()\n",
    "\n",
    "# Set the dictionairy of hyperparameters for additive smoothing\n",
    "parameters_bayes = {\n",
    "    'clf__alpha': [1e-3, 1e-2, 1e-1, 1.0]\n",
    "    }\n",
    "\n",
    "# Perform grid search over parameter space and obtain the best estimator\n",
    "multinomial_bayes_grid = GridSearchCV(pipeline_multinomial_bayes, \n",
    "                              parameters_bayes, \n",
    "                              n_jobs=-1).fit(X_train, y_train)\n",
    "multinomial_bayes_clf = multinomial_bayes_grid.best_estimator_\n",
    "print(\"The best estimator obtained for Multinomial Naive Bayes is: \")\n",
    "print(multinomial_bayes_clf._final_estimator)\n",
    "print(\"The best params obtained is: %s\" % multinomial_bayes_grid.best_params_)\n",
    "\n",
    "# Predict the outcome on the test set\n",
    "y_predicted = multinomial_bayes_clf.predict(X_test)\n",
    "\n",
    "# Print the training and testing time\n",
    "print(\"Time used for training and testing: %0.2fs\" % (time() - start))\n",
    "\n",
    "# Print the classification report\n",
    "print(\"Classification report:\")\n",
    "print(metrics.classification_report(y_test, y_predicted, target_names=documents.target_names))\n",
    "# Print and plot the confusion matrix\n",
    "print(\"Confusion matrix:\")\n",
    "cm = metrics.confusion_matrix(y_test, y_predicted)\n",
    "print(cm)\n",
    "\n",
    "#Print the accuracy on left-out test set and cross-validation\n",
    "print(\"Test accuracy: %0.2f\" % multinomial_bayes_clf.fit(X_train, y_train).score(X_test, y_test)) \n",
    "scores = cross_val_score(multinomial_bayes_clf, X_train, y_train, cv=10)\n",
    "print(\"Cross-validation accuracy: %0.2f (+/- %0.2f)\" % (scores.mean(), scores.std()))"
   ]
  },
  {
   "cell_type": "code",
   "execution_count": 7,
   "metadata": {
    "collapsed": false
   },
   "outputs": [
    {
     "name": "stdout",
     "output_type": "stream",
     "text": [
      "The best estimator obtained for Bernoulli Naive Bayes is: \n",
      "BernoulliNB(alpha=0.01, binarize=0.0, class_prior=None, fit_prior=True)\n",
      "The best params obtained is: {'clf__alpha': 0.01}\n",
      "Time used for training and testing: 0.70s\n",
      "Classification report:\n",
      "             precision    recall  f1-score   support\n",
      "\n",
      "   business       1.00      1.00      1.00         4\n",
      "     sports       1.00      1.00      1.00         5\n",
      "\n",
      "avg / total       1.00      1.00      1.00         9\n",
      "\n",
      "Confusion matrix:\n",
      "[[4 0]\n",
      " [0 5]]\n",
      "Test accuracy: 1.00\n",
      "Cross-validation accuracy: 1.00 (+/- 0.00)\n"
     ]
    }
   ],
   "source": [
    "# Bernoulli Naive Bayes as classifier\n",
    "pipeline_bernoulli_bayes = Pipeline([\n",
    "        ('vect', vectorizer),\n",
    "        ('clf', BernoulliNB())\n",
    "    ])\n",
    "\n",
    "start = time()\n",
    "\n",
    "# Set the dictionairy of hyperparameters for additive smoothing\n",
    "parameters_bayes = {\n",
    "    'clf__alpha': [1e-3, 1e-2, 1e-1, 1.0]\n",
    "    }\n",
    "\n",
    "# Perform grid search over parameter space and obtain the best estimator\n",
    "bernoullie_bayes_grid = GridSearchCV(pipeline_bernoulli_bayes, \n",
    "                              parameters_bayes, \n",
    "                              n_jobs=-1).fit(X_train, y_train)\n",
    "bernoulli_bayes_clf = bernoullie_bayes_grid.best_estimator_\n",
    "print(\"The best estimator obtained for Bernoulli Naive Bayes is: \")\n",
    "print(bernoulli_bayes_clf._final_estimator)\n",
    "print(\"The best params obtained is: %s\" % bernoullie_bayes_grid.best_params_)\n",
    "\n",
    "# Predict the outcome on the test set\n",
    "y_predicted = bernoulli_bayes_clf.predict(X_test)\n",
    "\n",
    "# Print the training and testing time\n",
    "print(\"Time used for training and testing: %0.2fs\" % (time() - start))\n",
    "\n",
    "# Print the classification report\n",
    "print(\"Classification report:\")\n",
    "print(metrics.classification_report(y_test, y_predicted, target_names=documents.target_names))\n",
    "# Print and plot the confusion matrix\n",
    "print(\"Confusion matrix:\")\n",
    "cm = metrics.confusion_matrix(y_test, y_predicted)\n",
    "print(cm)\n",
    "\n",
    "#Print the accuracy on left-out test set and cross-validation\n",
    "print(\"Test accuracy: %0.2f\" % bernoulli_bayes_clf.fit(X_train, y_train).score(X_test, y_test)) \n",
    "scores = cross_val_score(bernoulli_bayes_clf, X_train, y_train, cv=10)\n",
    "print(\"Cross-validation accuracy: %0.2f (+/- %0.2f)\" % (scores.mean(), scores.std()))"
   ]
  },
  {
   "cell_type": "code",
   "execution_count": 8,
   "metadata": {
    "collapsed": false
   },
   "outputs": [
    {
     "name": "stdout",
     "output_type": "stream",
     "text": [
      "The best estimator obtained for Linear SVM is: \n",
      "LinearSVC(C=0.001, class_weight=None, dual=True, fit_intercept=True,\n",
      "     intercept_scaling=1, loss='squared_hinge', max_iter=1000,\n",
      "     multi_class='ovr', penalty='l2', random_state=None, tol=0.0001,\n",
      "     verbose=0)\n",
      "The best params obtained is: {'clf__C': 0.001}\n",
      "Time used for training and testing: 0.68s\n",
      "Classification report:\n",
      "             precision    recall  f1-score   support\n",
      "\n",
      "   business       1.00      1.00      1.00         4\n",
      "     sports       1.00      1.00      1.00         5\n",
      "\n",
      "avg / total       1.00      1.00      1.00         9\n",
      "\n",
      "Confusion matrix:\n",
      "[[4 0]\n",
      " [0 5]]\n",
      "Test accuracy: 1.00\n",
      "Cross-validation accuracy: 0.97 (+/- 0.07)\n"
     ]
    }
   ],
   "source": [
    "# Linear SVM as classifier\n",
    "pipeline_svm = Pipeline([\n",
    "        ('vect', vectorizer),\n",
    "        ('clf', LinearSVC(multi_class='ovr'))\n",
    "    ])\n",
    "\n",
    "start = time()\n",
    "\n",
    "# Set the dictionairy of hyperparameters for C\n",
    "parameters_svm = {\n",
    "    'clf__C': [1e-3, 1e-2, 1e-1, 1.0, 10.0]\n",
    "    }\n",
    "\n",
    "# Perform grid search over parameter space and obtain the best estimator\n",
    "svm_grid = GridSearchCV(pipeline_svm, \n",
    "                              parameters_svm, \n",
    "                              n_jobs=-1).fit(X_train, y_train)\n",
    "svm_clf = svm_grid.best_estimator_\n",
    "print(\"The best estimator obtained for Linear SVM is: \")\n",
    "print(svm_clf._final_estimator)\n",
    "print(\"The best params obtained is: %s\" % svm_grid.best_params_)\n",
    "\n",
    "# Predict the outcome on the test set\n",
    "y_predicted = svm_clf.predict(X_test)\n",
    "\n",
    "# Print the training and testing time\n",
    "print(\"Time used for training and testing: %0.2fs\" % (time() - start))\n",
    "\n",
    "# Print the classification report\n",
    "print(\"Classification report:\")\n",
    "print(metrics.classification_report(y_test, y_predicted, target_names=documents.target_names))\n",
    "# Print and plot the confusion matrix\n",
    "print(\"Confusion matrix:\")\n",
    "cm = metrics.confusion_matrix(y_test, y_predicted)\n",
    "print(cm)\n",
    "\n",
    "#Print the accuracy on left-out test set and cross-validation\n",
    "print(\"Test accuracy: %0.2f\" % svm_clf.fit(X_train, y_train).score(X_test, y_test)) \n",
    "scores = cross_val_score(svm_clf, X_train, y_train, cv=10)\n",
    "print(\"Cross-validation accuracy: %0.2f (+/- %0.2f)\" % (scores.mean(), scores.std()))"
   ]
  },
  {
   "cell_type": "code",
   "execution_count": 9,
   "metadata": {
    "collapsed": false
   },
   "outputs": [
    {
     "name": "stdout",
     "output_type": "stream",
     "text": [
      "The best estimator obtained for Random Forests is: \n",
      "RandomForestClassifier(bootstrap=True, class_weight=None, criterion='gini',\n",
      "            max_depth=None, max_features='log2', max_leaf_nodes=None,\n",
      "            min_impurity_split=1e-07, min_samples_leaf=1,\n",
      "            min_samples_split=2, min_weight_fraction_leaf=0.0,\n",
      "            n_estimators=150, n_jobs=1, oob_score=False, random_state=None,\n",
      "            verbose=0, warm_start=False)\n",
      "The best params obtained is: {'clf__min_samples_leaf': 1, 'clf__max_features': 'log2', 'clf__n_estimators': 150}\n",
      "Time used for training and testing: 17.64s\n",
      "Classification report:\n",
      "             precision    recall  f1-score   support\n",
      "\n",
      "   business       1.00      0.75      0.86         4\n",
      "     sports       0.83      1.00      0.91         5\n",
      "\n",
      "avg / total       0.91      0.89      0.89         9\n",
      "\n",
      "Confusion matrix:\n",
      "[[3 1]\n",
      " [0 5]]\n",
      "Test accuracy: 0.89\n",
      "Cross-validation accuracy: 0.97 (+/- 0.07)\n"
     ]
    }
   ],
   "source": [
    "# Random Forests as classifier, note that Random Forest may take long \n",
    "# training time that depends on the number and depth of trees \n",
    "pipeline_rf = Pipeline([\n",
    "        ('vect', vectorizer),\n",
    "        ('clf', RandomForestClassifier())\n",
    "    ])\n",
    "\n",
    "start = time()\n",
    "\n",
    "# Set the dictionairy of hyperparameters for \n",
    "parameters_rf = {\n",
    "    'clf__max_features': ['sqrt', 'log2', None],\n",
    "    'clf__n_estimators': [30, 50, 100, 150],\n",
    "    'clf__min_samples_leaf': [1, 2, 5, 10]\n",
    "    }\n",
    "\n",
    "# Perform grid search over parameter space and obtain the best estimator\n",
    "rf_grid = GridSearchCV(pipeline_rf, \n",
    "                              parameters_rf, \n",
    "                              n_jobs=-1).fit(X_train, y_train)\n",
    "rf_clf = rf_grid.best_estimator_\n",
    "print(\"The best estimator obtained for Random Forests is: \")\n",
    "print(rf_clf._final_estimator)\n",
    "print(\"The best params obtained is: %s\" % rf_grid.best_params_)\n",
    "\n",
    "# Predict the outcome on the test set\n",
    "y_predicted = rf_clf.predict(X_test)\n",
    "\n",
    "# Print the training and testing time\n",
    "print(\"Time used for training and testing: %0.2fs\" % (time() - start))\n",
    "\n",
    "# Print the classification report\n",
    "print(\"Classification report:\")\n",
    "print(metrics.classification_report(y_test, y_predicted, target_names=documents.target_names))\n",
    "# Print and plot the confusion matrix\n",
    "print(\"Confusion matrix:\")\n",
    "cm = metrics.confusion_matrix(y_test, y_predicted)\n",
    "print(cm)\n",
    "\n",
    "#Print the accuracy on left-out test set and cross-validation\n",
    "print(\"Test accuracy: %0.2f\" % rf_clf.fit(X_train, y_train).score(X_test, y_test)) \n",
    "scores = cross_val_score(rf_clf, X_train, y_train, cv=10)\n",
    "print(\"Cross-validation accuracy: %0.2f (+/- %0.2f)\" % (scores.mean(), scores.std()))"
   ]
  },
  {
   "cell_type": "markdown",
   "metadata": {},
   "source": [
    "We can further combine the above classifiers to make a better prediction, \n",
    "e.g., through majority voting mechanism. This is particularly useful when \n",
    "classifiers are performing equally well and voting classifier can balance \n",
    "out their individual weaknesses.\n",
    "\n",
    "We see that linear classifiers generally performs well, as data can be more\n",
    "easily separated linearly in high-dimensional spaces. However, we caution \n",
    "the interpretation of this result to be siginificant given the very limited\n",
    "sample size."
   ]
  },
  {
   "cell_type": "code",
   "execution_count": 10,
   "metadata": {
    "collapsed": false,
    "scrolled": true
   },
   "outputs": [
    {
     "name": "stdout",
     "output_type": "stream",
     "text": [
      "Accuracy: 0.95 (+/- 0.10) [Logistic Regression]\n",
      "Accuracy: 0.97 (+/- 0.07) [Multinomial Naive Bayes]\n",
      "Accuracy: 1.00 (+/- 0.00) [Bernoulli Naive Bayes]\n",
      "Accuracy: 0.97 (+/- 0.07) [Linear SVM]\n",
      "Accuracy: 0.94 (+/- 0.12) [Random Forests]\n",
      "Accuracy: 1.00 (+/- 0.00) [Voting]\n"
     ]
    }
   ],
   "source": [
    "voting_clf = VotingClassifier(estimators=[('lr', clf_logit), ('mnnb', multinomial_bayes_clf),\n",
    "                                         ('bnnb', bernoulli_bayes_clf), ('lsvm', svm_clf),\n",
    "                                         ('rf', rf_clf)], voting='hard')\n",
    "\n",
    "for clf, label in zip([clf_logit, multinomial_bayes_clf, bernoulli_bayes_clf, svm_clf, \n",
    "                       rf_clf, voting_clf],\n",
    "                     ['Logistic Regression', 'Multinomial Naive Bayes', 'Bernoulli Naive Bayes',\n",
    "                     'Linear SVM', 'Random Forests', 'Voting']):\n",
    "    scores = cross_val_score(clf, X_train, y_train, cv=10)\n",
    "    print(\"Accuracy: %0.2f (+/- %0.2f) [%s]\" % (scores.mean(), scores.std(), label))"
   ]
  },
  {
   "cell_type": "markdown",
   "metadata": {},
   "source": [
    "## Wrapper function\n",
    "We can write parameterized wrapper functions for pipelines that\n",
    "are easy to be called, using different feature extractors, classifers,\n",
    "and results reports"
   ]
  },
  {
   "cell_type": "code",
   "execution_count": 11,
   "metadata": {
    "collapsed": false,
    "scrolled": true
   },
   "outputs": [],
   "source": [
    "# Parameterized training model\n",
    "def training(vect, clf, params, X_train, y_train):\n",
    "    print('_' * 80)\n",
    "    print(\"Start training %s: \" % clf.__class__.__name__)\n",
    "    \n",
    "    # Set up the pipeline\n",
    "    pipeline = Pipeline([\n",
    "        ('vect', vect),\n",
    "        ('clf', clf)       \n",
    "    ])\n",
    "    \n",
    "    start = time()\n",
    "    \n",
    "    # Set the dictionairy of hyperparameters \n",
    "    params = params\n",
    "    \n",
    "    # Perform grid search over parameter space and obtain the best estimator\n",
    "    grid_search = GridSearchCV(pipeline, params, n_jobs=-1).fit(X_train, y_train)\n",
    "    grid_clf = grid_search.best_estimator_\n",
    "    print(\"The best estimator obtained is: \")\n",
    "    pprint(grid_clf._final_estimator)\n",
    "    print(\"The best params obtained is: %s\" % grid_search.best_params_)\n",
    "    print(\"Time used for training: %0.2fs\" % (time() - start))\n",
    "    return grid_clf\n",
    "\n",
    "# Present evaluation results \n",
    "def evaluation(grid_clf, X_test, y_test):\n",
    "    print(\"Predict the outcome on the test set\")\n",
    "    y_predicted = grid_clf.predict(X_test)\n",
    "\n",
    "    # Print the classification report\n",
    "    print(\"Classification report:\")\n",
    "    print(metrics.classification_report(y_test, y_predicted, target_names=documents.target_names))\n",
    "    # Print and plot the confusion matrix\n",
    "    print(\"Confusion matrix:\")\n",
    "    cm = metrics.confusion_matrix(y_test, y_predicted)\n",
    "    print(cm)\n",
    "\n",
    "    #Print the accuracy on left-out test set and cross-validation\n",
    "    print(\"Test accuracy: %0.2f\" % metrics.accuracy_score(y_test, y_predicted)) \n",
    "    scores = cross_val_score(grid_clf, X_train, y_train, cv=10)\n",
    "    print(\"Cross-validation accuracy: %0.2f (+/- %0.2f)\" % (scores.mean(), scores.std()))\n",
    "    return scores"
   ]
  },
  {
   "cell_type": "markdown",
   "metadata": {},
   "source": [
    "Then we simply call training function to train classification model with \n",
    "specified parameters and save the model and calculate the cross-validation \n",
    "accuracy score"
   ]
  },
  {
   "cell_type": "code",
   "execution_count": 12,
   "metadata": {
    "collapsed": false,
    "scrolled": false
   },
   "outputs": [
    {
     "name": "stdout",
     "output_type": "stream",
     "text": [
      "________________________________________________________________________________\n",
      "Start training LogisticRegression: \n",
      "The best estimator obtained is: \n",
      "LogisticRegression(C=0.001, class_weight=None, dual=False, fit_intercept=True,\n",
      "          intercept_scaling=1, max_iter=100, multi_class='ovr', n_jobs=1,\n",
      "          penalty='l2', random_state=None, solver='liblinear', tol=0.0001,\n",
      "          verbose=0, warm_start=False)\n",
      "The best params obtained is: {'clf__C': 0.001, 'clf__penalty': 'l2'}\n",
      "Time used for training: 1.11s\n",
      "Predict the outcome on the test set\n",
      "Classification report:\n",
      "             precision    recall  f1-score   support\n",
      "\n",
      "   business       1.00      1.00      1.00         4\n",
      "     sports       1.00      1.00      1.00         5\n",
      "\n",
      "avg / total       1.00      1.00      1.00         9\n",
      "\n",
      "Confusion matrix:\n",
      "[[4 0]\n",
      " [0 5]]\n",
      "Test accuracy: 1.00\n",
      "Cross-validation accuracy: 0.95 (+/- 0.10)\n",
      "________________________________________________________________________________\n",
      "Start training MultinomialNB: \n",
      "The best estimator obtained is: \n",
      "MultinomialNB(alpha=0.001, class_prior=None, fit_prior=True)\n",
      "The best params obtained is: {'clf__alpha': 0.001}\n",
      "Time used for training: 0.56s\n",
      "Predict the outcome on the test set\n",
      "Classification report:\n",
      "             precision    recall  f1-score   support\n",
      "\n",
      "   business       1.00      1.00      1.00         4\n",
      "     sports       1.00      1.00      1.00         5\n",
      "\n",
      "avg / total       1.00      1.00      1.00         9\n",
      "\n",
      "Confusion matrix:\n",
      "[[4 0]\n",
      " [0 5]]\n",
      "Test accuracy: 1.00\n",
      "Cross-validation accuracy: 0.97 (+/- 0.07)\n",
      "________________________________________________________________________________\n",
      "Start training BernoulliNB: \n",
      "The best estimator obtained is: \n",
      "BernoulliNB(alpha=0.01, binarize=0.0, class_prior=None, fit_prior=True)\n",
      "The best params obtained is: {'clf__alpha': 0.01}\n",
      "Time used for training: 0.89s\n",
      "Predict the outcome on the test set\n",
      "Classification report:\n",
      "             precision    recall  f1-score   support\n",
      "\n",
      "   business       1.00      1.00      1.00         4\n",
      "     sports       1.00      1.00      1.00         5\n",
      "\n",
      "avg / total       1.00      1.00      1.00         9\n",
      "\n",
      "Confusion matrix:\n",
      "[[4 0]\n",
      " [0 5]]\n",
      "Test accuracy: 1.00\n",
      "Cross-validation accuracy: 1.00 (+/- 0.00)\n",
      "________________________________________________________________________________\n",
      "Start training LinearSVC: \n",
      "The best estimator obtained is: \n",
      "LinearSVC(C=0.1, class_weight=None, dual=True, fit_intercept=True,\n",
      "     intercept_scaling=1, loss='squared_hinge', max_iter=1000,\n",
      "     multi_class='ovr', penalty='l2', random_state=None, tol=0.0001,\n",
      "     verbose=0)\n",
      "The best params obtained is: {'clf__C': 0.1}\n",
      "Time used for training: 0.68s\n",
      "Predict the outcome on the test set\n",
      "Classification report:\n",
      "             precision    recall  f1-score   support\n",
      "\n",
      "   business       1.00      1.00      1.00         4\n",
      "     sports       1.00      1.00      1.00         5\n",
      "\n",
      "avg / total       1.00      1.00      1.00         9\n",
      "\n",
      "Confusion matrix:\n",
      "[[4 0]\n",
      " [0 5]]\n",
      "Test accuracy: 1.00\n",
      "Cross-validation accuracy: 0.97 (+/- 0.07)\n",
      "________________________________________________________________________________\n",
      "Start training RandomForestClassifier: \n",
      "The best estimator obtained is: \n",
      "RandomForestClassifier(bootstrap=True, class_weight=None, criterion='gini',\n",
      "            max_depth=None, max_features='sqrt', max_leaf_nodes=None,\n",
      "            min_impurity_split=1e-07, min_samples_leaf=2,\n",
      "            min_samples_split=2, min_weight_fraction_leaf=0.0,\n",
      "            n_estimators=150, n_jobs=1, oob_score=False, random_state=None,\n",
      "            verbose=0, warm_start=False)\n",
      "The best params obtained is: {'clf__min_samples_leaf': 2, 'clf__max_features': 'sqrt', 'clf__n_estimators': 150}\n",
      "Time used for training: 19.26s\n",
      "Predict the outcome on the test set\n",
      "Classification report:\n",
      "             precision    recall  f1-score   support\n",
      "\n",
      "   business       1.00      1.00      1.00         4\n",
      "     sports       1.00      1.00      1.00         5\n",
      "\n",
      "avg / total       1.00      1.00      1.00         9\n",
      "\n",
      "Confusion matrix:\n",
      "[[4 0]\n",
      " [0 5]]\n",
      "Test accuracy: 1.00\n",
      "Cross-validation accuracy: 1.00 (+/- 0.00)\n"
     ]
    }
   ],
   "source": [
    "trained_models = []\n",
    "results = []\n",
    "vect_list = [vectorizer, vectorizer, vectorizer_tfidf, vectorizer_tfidf, vectorizer]\n",
    "clf_list = [LogisticRegression(multi_class='ovr'),\n",
    "           MultinomialNB(), BernoulliNB(),\n",
    "           LinearSVC(multi_class='ovr'),\n",
    "           RandomForestClassifier()]\n",
    "params_list = [parameters_logit, parameters_bayes, parameters_bayes,\n",
    "              parameters_svm, parameters_rf]\n",
    "\n",
    "for i, (l1, l2, l3)  in enumerate(zip(vect_list, clf_list, params_list)):\n",
    "    #print(i, l1, l2, l3)\n",
    "    trained_models.append(training(l1, l2, l3, X_train, y_train))\n",
    "    results.append(evaluation(trained_models[i], X_test, y_test))"
   ]
  },
  {
   "cell_type": "markdown",
   "metadata": {},
   "source": [
    "Besides precision-recall and confusion matrix, we can also visualize\n",
    "the calssifier output quality, e.g, through Receive Operating \n",
    "Characteristic (ROC) curve and area under the curve (AUC). Below\n",
    "shows an example of Logistic Regression, where we obtain the perfect\n",
    "prediction, i.e., AUC = 1 for 100% of test accuracy"
   ]
  },
  {
   "cell_type": "code",
   "execution_count": 13,
   "metadata": {
    "collapsed": false
   },
   "outputs": [
    {
     "data": {
      "image/png": "[encoded data removed]",
      "text/plain": [
       "<matplotlib.figure.Figure at 0x110702e10>"
      ]
     },
     "metadata": {},
     "output_type": "display_data"
    }
   ],
   "source": [
    "y_predicted = clf_logit.fit(X_train, y_train).predict(X_test)\n",
    "fpr, tpr, thresholds = metrics.roc_curve(y_test, y_predicted)\n",
    "roc_auc = metrics.auc(fpr, tpr)\n",
    "plt.plot(fpr, tpr, lw=2, color='blue',\n",
    "        label='ROC curve (area = %0.2f)' % roc_auc)\n",
    "plt.plot([0, 1], [0, 1], color='cyan', lw=2, linestyle='--')\n",
    "plt.xlim([0.0, 1.0])\n",
    "plt.ylim([0.0, 1.05])\n",
    "plt.xlabel('False Positive Rate')\n",
    "plt.ylabel('True Positive Rate')\n",
    "plt.title('ROC curve for Logistic Regression')\n",
    "plt.legend(loc=\"lower right\")\n",
    "plt.show()"
   ]
  },
  {
   "cell_type": "markdown",
   "metadata": {},
   "source": [
    "Finally, we train our model using the whole dataset and persist the model \n",
    "for future use without have to retrain. "
   ]
  },
  {
   "cell_type": "code",
   "execution_count": 14,
   "metadata": {
    "collapsed": false
   },
   "outputs": [
    {
     "name": "stdout",
     "output_type": "stream",
     "text": [
      "Trained ad hoc model: MultinomialNB(alpha=0.001, class_prior=None, fit_prior=True)\n",
      "Test accuracy from ad hoc model is 1.00:\n"
     ]
    }
   ],
   "source": [
    "clf_dump = []\n",
    "for trained_model in trained_models:    \n",
    "    clf_dump.append(pickle.dumps(trained_model.fit(documents.data, documents.target)))\n",
    "\n",
    "# Load a trained model for ready use    \n",
    "clf2 = pickle.loads(clf_dump[1])\n",
    "print(\"Trained ad hoc model: %s\" % clf2._final_estimator)\n",
    "print(\"Test accuracy from ad hoc model is %0.2f:\" %  metrics.accuracy_score(y_test, clf2.predict(X_test)))"
   ]
  },
  {
   "cell_type": "code",
   "execution_count": null,
   "metadata": {
    "collapsed": true
   },
   "outputs": [],
   "source": [
    ""
   ]
  }
 ],
 "metadata": {
  "anaconda-cloud": {},
  "kernelspec": {
   "display_name": "Python [conda root]",
   "language": "python",
   "name": "conda-root-py"
  },
  "language_info": {
   "codemirror_mode": {
    "name": "ipython",
    "version": 3.0
   },
   "file_extension": ".py",
   "mimetype": "text/x-python",
   "name": "python",
   "nbconvert_exporter": "python",
   "pygments_lexer": "ipython3",
   "version": "3.5.2"
  }
 },
 "nbformat": 4,
 "nbformat_minor": 0
}
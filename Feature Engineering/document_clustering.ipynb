{
 "cells": [
  {
   "cell_type": "markdown",
   "metadata": {},
   "source": [
    "# Document Clustering\n",
    "We have a collection of news articles without ground truth categories. We perform unsupervised clustering and \n",
    "topic modeling to discover latent semantic structure among these documents."
   ]
  },
  {
   "cell_type": "code",
   "execution_count": 2,
   "metadata": {
    "collapsed": false
   },
   "outputs": [
    {
     "name": "stdout",
     "output_type": "stream",
     "text": [
      "Loading all documents from the folder into the memory\n",
      "In total 41 documents loaded\n"
     ]
    }
   ],
   "source": [
    "from sklearn.feature_extraction.text import CountVectorizer, TfidfVectorizer\n",
    "from sklearn import metrics\n",
    "from sklearn.cluster import KMeans, MiniBatchKMeans\n",
    "from sklearn.decomposition import TruncatedSVD\n",
    "from sklearn.pipeline import make_pipeline\n",
    "from sklearn.preprocessing import Normalizer\n",
    "from pprint import pprint\n",
    "import numpy as np\n",
    "import re\n",
    "from os.path import exists, join\n",
    "from os import listdir\n",
    "from time import time\n",
    "import matplotlib.cm as cm\n",
    "import matplotlib.pyplot as plt\n",
    "from gensim.models import CoherenceModel\n",
    "from gensim.models.ldamodel import LdaModel\n",
    "from gensim import matutils\n",
    "from gensim.corpora import Dictionary\n",
    "import pyLDAvis\n",
    "import pyLDAvis.gensim\n",
    "import nltk\n",
    "\n",
    "folder_path = \"data/articles_randomized\"\n",
    "assert exists(folder_path), \"The folder is not found\"\n",
    "\n",
    "target = []\n",
    "filenames = []\n",
    "data = []\n",
    "\n",
    "folders = [f for f in sorted(listdir(folder_path))]\n",
    "filenames = [join(folder_path, d) for d in sorted(listdir(folder_path))] \n",
    "    \n",
    "\n",
    "target.extend(len(filenames) * [1])\n",
    "filenames = np.array(filenames)\n",
    "target = np.array(target)\n",
    "\n",
    "for filename in filenames:\n",
    "    with open(filename, 'rb') as f:\n",
    "        data.append(f.read())\n",
    "data = [d.decode('utf-8') for d in data]\n",
    "\n",
    "print(\"Loading all documents from the folder into the memory\")\n",
    "documents = dict(data=data, filenames=filenames, target=target)\n",
    "\n",
    "print(\"In total %d documents loaded\" % len(documents['data']))"
   ]
  },
  {
   "cell_type": "markdown",
   "metadata": {},
   "source": [
    "## Preprocessing the text data and extract features\n",
    "We extract feature using TF-IDF vectorizer to compute a sparse word orrurence\n",
    "frequency matrix, which is reweighted using IDF vector collected feature-wise\n",
    "over the text corpus. This would help clustering algorithms that are sensitive\n",
    "to feature scaling."
   ]
  },
  {
   "cell_type": "code",
   "execution_count": 3,
   "metadata": {
    "collapsed": false
   },
   "outputs": [],
   "source": [
    "for i in range(len(documents['data'])):\n",
    "    # Normalize words into lowercase\n",
    "    documents['data'][i] = documents['data'][i].lower()\n",
    "\n",
    "    # Remove punctuations, linebreaks, numbers and short words\n",
    "    symbols = ['[-./?!,\":;()|$%&\\'\\”\\’]', \n",
    "                '[\\r?\\n]+', '[0-9]+', \n",
    "                r'\\b[a-zA-Z]{1,3}\\b']\n",
    "    for symbol in symbols :\n",
    "        documents['data'][i] = re.sub(symbol, ' ', documents['data'][i])"
   ]
  },
  {
   "cell_type": "code",
   "execution_count": 4,
   "metadata": {
    "collapsed": false
   },
   "outputs": [
    {
     "name": "stdout",
     "output_type": "stream",
     "text": [
      "number of samples: 41, number of features: 4010\n"
     ]
    }
   ],
   "source": [
    "# Perform TF-IDF vectorization to map the words to feature indices and\n",
    "# remove stopwords, frequent and rare words\n",
    "vectorizer = TfidfVectorizer(lowercase=True, stop_words='english',\n",
    "                                  min_df=1, max_df=0.4)\n",
    "X = vectorizer.fit_transform(documents['data'])\n",
    "\n",
    "print(\"number of samples: %d, number of features: %d\" % X.shape)"
   ]
  },
  {
   "cell_type": "markdown",
   "metadata": {},
   "source": [
    "## Clustering\n",
    "Essentially, we plan to separate documents into clusters such that \n",
    "members that belong to the same cluster are more similar than those \n",
    "in the different clusters. However, because we have no prior information\n",
    "about ground truth class value for each document. We use the \n",
    "unsupervised learning algorithms K-Means and measure\n",
    "the quality of resulting clusters using internal validty measure of \n",
    "silhouette score:"
   ]
  },
  {
   "cell_type": "code",
   "execution_count": 5,
   "metadata": {
    "collapsed": false
   },
   "outputs": [
    {
     "name": "stdout",
     "output_type": "stream",
     "text": [
      "Clustering sparse data with K-Means\n",
      "Number of cluster: 2, silhouette score : 0.021\n",
      "Number of cluster: 3, silhouette score : 0.017\n",
      "Number of cluster: 4, silhouette score : 0.022\n",
      "Number of cluster: 5, silhouette score : 0.031\n",
      "Number of cluster: 6, silhouette score : 0.031\n",
      "Number of cluster: 7, silhouette score : 0.045\n",
      "Number of cluster: 8, silhouette score : 0.087\n",
      "Number of cluster: 9, silhouette score : 0.087\n",
      "Number of cluster: 10, silhouette score : 0.098\n",
      "KMeans clustering in 0.41s\n"
     ]
    }
   ],
   "source": [
    "#labels = documents['target']\n",
    "\n",
    "# Define range of number of clusters\n",
    "range_n_clusters = np.arange(2,11)\n",
    "\n",
    "print(\"Clustering sparse data with K-Means\")\n",
    "start = time()\n",
    "for n_clusters in range_n_clusters:\n",
    "    # Initialize KMeans clustering algorithm with n_cluster value \n",
    "    km = KMeans(n_clusters, init='k-means++', max_iter=100, n_init=1, random_state=12)\n",
    "    km.fit(X)\n",
    "    \n",
    "    # Evalaute the density and separation of the formed clusters \n",
    "    print(\"Number of cluster: %d, silhouette score : %0.3f\"\n",
    "      % (n_clusters, metrics.silhouette_score(X, km.labels_)))\n",
    "    \n",
    "print(\"KMeans clustering in %0.2fs\" % (time() - start))"
   ]
  },
  {
   "cell_type": "markdown",
   "metadata": {},
   "source": [
    "## Find the optimal number of clusters\n",
    "We vary the number of clusters and find that vanila K-Means algorithm \n",
    "does not yield very useful clusters given the low silhouette coefficients.\n",
    "The sample is very close to the decision boundary between two neighboring\n",
    "clusters. This is likely to be the case of limited sample size and high dimensional\n",
    "space. To address the potential \"curse of dimensionality\" problem, we further \n",
    "apply latent semantic analysis (LSA) to sparse TF-IDF matrices using truncated\n",
    "Singular Value Decomposition (SVD). "
   ]
  },
  {
   "cell_type": "code",
   "execution_count": 6,
   "metadata": {
    "collapsed": false,
    "scrolled": true
   },
   "outputs": [
    {
     "name": "stdout",
     "output_type": "stream",
     "text": [
      "Number of features after SVD: 2\n",
      "Clustering projected data with KMeans\n",
      "Number of cluster: 2, silhouette score : 0.82\n",
      "\n",
      "Number of features after SVD: 3\n",
      "Clustering projected data with KMeans\n",
      "Number of cluster: 3, silhouette score : 0.71\n",
      "\n",
      "Number of features after SVD: 4\n",
      "Clustering projected data with KMeans\n",
      "Number of cluster: 4, silhouette score : 0.70\n",
      "\n",
      "Number of features after SVD: 5\n",
      "Clustering projected data with KMeans\n",
      "Number of cluster: 5, silhouette score : 0.67\n",
      "\n",
      "Number of features after SVD: 6\n",
      "Clustering projected data with KMeans\n",
      "Number of cluster: 6, silhouette score : 0.63\n",
      "\n",
      "Number of features after SVD: 7\n",
      "Clustering projected data with KMeans\n",
      "Number of cluster: 7, silhouette score : 0.63\n",
      "\n",
      "Number of features after SVD: 8\n",
      "Clustering projected data with KMeans\n",
      "Number of cluster: 8, silhouette score : 0.66\n",
      "\n",
      "Number of features after SVD: 9\n",
      "Clustering projected data with KMeans\n",
      "Number of cluster: 9, silhouette score : 0.64\n",
      "\n",
      "Number of features after SVD: 10\n",
      "Clustering projected data with KMeans\n",
      "Number of cluster: 10, silhouette score : 0.58\n",
      "\n"
     ]
    }
   ],
   "source": [
    "# Define search range of number of clusters\n",
    "range_n_components = np.arange(2,11)\n",
    "\n",
    "# Perform dimensionality reduction using LSA\n",
    "for n_components in range_n_components:    \n",
    "    svd = TruncatedSVD(n_components)\n",
    "    # Re-normalize after SVD\n",
    "    normalizer = Normalizer(copy=False)\n",
    "    lsa = make_pipeline(svd, normalizer)\n",
    "    \n",
    "    X_lsa = lsa.fit_transform(X)\n",
    "\n",
    "    print(\"Number of features after SVD: %d\" % X_lsa.shape[1])\n",
    "    print(\"Clustering projected data with %s\" % km.__class__.__name__)\n",
    "    \n",
    "    silouette = []\n",
    "    for n_clusters in range_n_clusters:\n",
    "        # Initialize KMeans clustering algorithm with n_cluster value \n",
    "        km = KMeans(n_clusters, init='k-means++', max_iter=100, n_init=1, random_state=12)\n",
    "        km.fit(X_lsa)\n",
    "        \n",
    "        silouette.append(metrics.silhouette_score(X_lsa, km.labels_))\n",
    "    \n",
    "    # Evalaute the density and separation of the formed clusters \n",
    "    # Calinski Harabaz is another inter validty evaluation measure\n",
    "    print(\"Number of cluster: %d, silhouette score : %0.2f\"\n",
    "        % (silouette.index(max(silouette)) + 2, max(silouette)))\n",
    "    print()"
   ]
  },
  {
   "cell_type": "markdown",
   "metadata": {},
   "source": [
    "## Dimentionality reduction\n",
    "We show that the original feature space is very sparse and LSA can effectively\n",
    "reduce the dimenionality. We vary the dimentionality and number of clusters \n",
    "used in K-Means, and find that we obtain the maximum silhouette score when the \n",
    "feature space is reduced to 2 dimensions and separated into two classes. We \n",
    "further shows the top terms in each cluster as:"
   ]
  },
  {
   "cell_type": "code",
   "execution_count": 7,
   "metadata": {
    "collapsed": false,
    "scrolled": true
   },
   "outputs": [
    {
     "name": "stdout",
     "output_type": "stream",
     "text": [
      "Top 10 terms per cluster:\n",
      "Cluster 1:[('roethlisberger', 0.33698689648541547),\n",
      " ('steelers', 0.228754338778966),\n",
      " ('james', 0.20384047141221778),\n",
      " ('cavs', 0.18173589627192277),\n",
      " ('andrews', 0.1499736387584541),\n",
      " ('team', 0.13960322176436513),\n",
      " ('griffin', 0.13785865543230155),\n",
      " ('clippers', 0.13234532534393262),\n",
      " ('game', 0.12493713435463355),\n",
      " ('duke', 0.11284428297733212)]\n",
      "\n",
      "Cluster 2:[('trump', 0.27888966941844268),\n",
      " ('percent', 0.16903700493432186),\n",
      " ('jobs', 0.16043812961409523),\n",
      " ('company', 0.15897436050035235),\n",
      " ('aetna', 0.13958197874640155),\n",
      " ('dakota', 0.1394949661834034),\n",
      " ('pipeline', 0.13825861389215316),\n",
      " ('president', 0.13788299341606247),\n",
      " ('keystone', 0.13758740306993647),\n",
      " ('pipelines', 0.12747333039065256)]\n",
      "\n"
     ]
    }
   ],
   "source": [
    "# Redo SVD to reduce feature space into 2 dimensions \n",
    "svd = TruncatedSVD(2)\n",
    "normalizer = Normalizer(copy=False)\n",
    "lsa = make_pipeline(svd, normalizer)\n",
    "    \n",
    "X_lsa = lsa.fit_transform(X)\n",
    "\n",
    "# Set KMeans to separate into 2 clusters\n",
    "km = KMeans(2, init='k-means++', max_iter=100, n_init=1, random_state=12)\n",
    "km.fit(X_lsa)\n",
    "\n",
    "print(\"Top 10 terms per cluster:\")\n",
    "\n",
    "# Inverse linear transformation to get the weights\n",
    "weights = np.dot(km.cluster_centers_, svd.components_)\n",
    "features = vectorizer.get_feature_names()\n",
    "\n",
    "# Obtain absolute value for the weights to avoid \"sign indeterminancy\" problem\n",
    "weights = np.abs(weights)\n",
    "\n",
    "# Show the top terms with the highest weights within each cluster\n",
    "for i in range(km.n_clusters):\n",
    "    print(\"Cluster %d:\" % (i + 1), end='')\n",
    "    top_terms = np.argsort(weights[i])[:-11:-1]\n",
    "    pprint(list(zip([features[j] for j in top_terms], weights[i, top_terms])))\n",
    "    print()"
   ]
  },
  {
   "cell_type": "markdown",
   "metadata": {},
   "source": [
    "We clearly see the above two clusters contain different categories of news articles. \n",
    "The first cluster relates to sports news including both basketball games such as James\n",
    "and Cavs, Griffin and Clippers, and football games such as Roethlisberger and\n",
    "Steelers (Here We Go Steelers!!) The second cluster relates to political and business \n",
    "news about President Trump, Keystone and Dakota Access Pipelines, Aetna company. \n",
    "We further visualize the clustered data in 2-d feature space and we see that articles \n",
    "inside the cluster still appear very distant, suggesting further division into smaller\n",
    "and more coherent clusters."
   ]
  },
  {
   "cell_type": "code",
   "execution_count": 8,
   "metadata": {
    "collapsed": false
   },
   "outputs": [
    {
     "data": {
      "image/png": "[encoded data removed]",
      "text/plain": [
       "<matplotlib.figure.Figure at 0x113e2b4e0>"
      ]
     },
     "metadata": {},
     "output_type": "display_data"
    }
   ],
   "source": [
    "clusterer = km.fit_predict(X_lsa)\n",
    "colors = cm.spectral(clusterer.astype(float) / 2)\n",
    "plt.scatter(X_lsa[:, 0], X_lsa[:, 1], marker='.', s=30, lw=0,\n",
    "           alpha=0.7, c=colors)\n",
    "centers = km.cluster_centers_\n",
    "plt.scatter(centers[:, 0], centers[:, 1],\n",
    "            marker='o', c=\"white\", alpha=1, s=200)\n",
    "\n",
    "for i, c in enumerate(centers):\n",
    "    plt.scatter(c[0], c[1], marker='$%d$' % (i + 1), alpha=1, s=50)\n",
    "\n",
    "plt.title(\"The visualization of the clustered data\")\n",
    "plt.xlabel(\"Feature space for the first feature\")\n",
    "plt.ylabel(\"Feature space for the second feature\")\n",
    "\n",
    "plt.show()"
   ]
  },
  {
   "cell_type": "markdown",
   "metadata": {},
   "source": [
    "## Topic Modeling\n",
    "We can also discover the abstract \"topics' in a collection of documents. \n",
    "Specifically, topc modelling task finds the hidden semantic structure \n",
    "in the text body by assigning a probabilisitc model over topics. \n",
    "We introduce gensim for our topc modelling task and we use\n",
    "classical Latent Dirichlet Allocation (LDA) for our text corpus (and\n",
    "there are many variants of LDA)."
   ]
  },
  {
   "cell_type": "code",
   "execution_count": 9,
   "metadata": {
    "collapsed": false
   },
   "outputs": [
    {
     "data": {
      "text/plain": [
       "[(0,\n",
       "  '0.031*\"trump\" + 0.016*\"president\" + 0.013*\"game\" + 0.012*\"state\" + 0.012*\"team\" + 0.011*\"play\" + 0.010*\"companies\" + 0.009*\"company\" + 0.009*\"point\" + 0.009*\"executive\"'),\n",
       " (1,\n",
       "  '0.024*\"million\" + 0.022*\"percent\" + 0.020*\"james\" + 0.019*\"company\" + 0.012*\"team\" + 0.011*\"mobile\" + 0.011*\"billion\" + 0.010*\"business\" + 0.010*\"lead\" + 0.009*\"added\"')]"
      ]
     },
     "execution_count": 9,
     "metadata": {},
     "output_type": "execute_result"
    }
   ],
   "source": [
    "# Perform Count vectorization to map the words to feature indices and\n",
    "# remove stopwords, frequent and rare words\n",
    "vectorizer_lda = CountVectorizer(lowercase=True, stop_words='english',\n",
    "                                  min_df=5, max_df=0.4)\n",
    "X_lda = vectorizer_lda.fit_transform(documents['data'])\n",
    "features_lda = vectorizer_lda.get_feature_names()\n",
    "\n",
    "corpus_lda = matutils.Sparse2Corpus(X_lda.T)\n",
    "dict_lda = dict([(i, s) for i, s in enumerate(features_lda)])\n",
    "\n",
    "# Apply LDA model to the vectorized text corpus\n",
    "lda = LdaModel(corpus_lda, num_topics=2, iterations=100,\n",
    "        passes = 10, id2word=dict_lda)\n",
    "\n",
    "# Show the 10 most probable words in each of the topic with probabilities\n",
    "lda.print_topics(num_topics=2, num_words=10)"
   ]
  },
  {
   "cell_type": "markdown",
   "metadata": {},
   "source": [
    "We see 10 most probable words within each topic. In the first topic, President Trump, Jobs, Companies, Business tend to appear together, whereas the second topic involves sports-related words, such as Sports, James, Play games, team and so on. This gives us a sense of how similar words belong to the same topic. Also we can use coherence model to measure topic coherence to complement human interpretation. "
   ]
  },
  {
   "cell_type": "code",
   "execution_count": 10,
   "metadata": {
    "collapsed": false
   },
   "outputs": [
    {
     "name": "stdout",
     "output_type": "stream",
     "text": [
      "The topic coherence score is -2.61:\n"
     ]
    }
   ],
   "source": [
    "# Coherence Model computes a pairwise score function to measure topic coherence\n",
    "# and to evaluate topic models (the larger the better)\n",
    "cm = CoherenceModel(model=lda, corpus=matutils.Sparse2Corpus(X_lda.T), \n",
    "                        dictionary=dict([(i, s) for i, s in enumerate(features_lda)]), \n",
    "                        coherence='u_mass')\n",
    "print(\"The topic coherence score is %0.2f:\" % cm.get_coherence())"
   ]
  },
  {
   "cell_type": "markdown",
   "metadata": {},
   "source": [
    "We can also visualize the topic model using pyLDAvis in order to better interpret the topics.  "
   ]
  },
  {
   "cell_type": "code",
   "execution_count": 11,
   "metadata": {
    "collapsed": false
   },
   "outputs": [],
   "source": [
    "# Prepare the document, dictionary and corpus to feed in pyLDAvis interface\n",
    "\n",
    "# Tokenize the raw documents\n",
    "docs = [nltk.word_tokenize(documents['data'][i]) for i, _ in enumerate(documents['data'])]\n",
    "\n",
    "# Create and update vocabulary to remove stopwords and rare and often words \n",
    "dictionary = Dictionary(docs)\n",
    "dictionary.filter_tokens(map(dictionary.token2id.get, \n",
    "                             nltk.corpus.stopwords.words('english')))\n",
    "dictionary.compactify()\n",
    "dictionary.filter_extremes()\n",
    "dictionary.compactify()\n",
    "\n",
    "# Build simple Bag of Word model\n",
    "corpus = [dictionary.doc2bow(doc) for doc in docs]"
   ]
  },
  {
   "cell_type": "code",
   "execution_count": 13,
   "metadata": {
    "collapsed": false
   },
   "outputs": [
    {
     "data": {
      "text/html": [
       "\n",
       "<link rel=\"stylesheet\" type=\"text/css\" href=\"https://cdn.rawgit.com/bmabey/pyLDAvis/files/ldavis.v1.0.0.css\">\n",
       "\n",
       "\n",
       "<div id=\"ldavis_el3443846320988803928963088\"></div>\n",
       "<script type=\"text/javascript\">\n",
       "\n",
       "var ldavis_el3443846320988803928963088_data = {\"R\": 30, \"plot.opts\": {\"ylab\": \"PC2\", \"xlab\": \"PC1\"}, \"mdsDat\": {\"y\": [0.0, 0.0], \"x\": [0.013500913519245927, -0.013500913519245927], \"topics\": [1, 2], \"Freq\": [58.081743573919674, 41.91825642608033], \"cluster\": [1, 1]}, \"tinfo\": {\"loglift\": [30.0, 29.0, 28.0, 27.0, 26.0, 25.0, 24.0, 23.0, 22.0, 21.0, 20.0, 19.0, 18.0, 17.0, 16.0, 15.0, 14.0, 13.0, 12.0, 11.0, 10.0, 9.0, 8.0, 7.0, 6.0, 5.0, 4.0, 3.0, 2.0, 1.0, 0.3943, 0.3883, 0.3714, 0.3558, 0.3433, 0.3429, 0.333, 0.3252, 0.3113, 0.307, 0.3026, 0.2986, 0.2972, 0.2959, 0.2892, 0.2877, 0.2876, 0.2851, 0.2832, 0.2804, 0.2786, 0.2686, 0.2595, 0.259, 0.2569, 0.2561, 0.2517, 0.25, 0.2441, 0.2433, 0.2416, 0.1807, 0.1621, 0.1901, 0.1793, 0.1842, 0.2029, 0.0997, 0.2014, 0.1858, 0.0743, 0.206, 0.0803, 0.0302, -0.0837, 0.1333, 0.0605, 0.0095, 0.1659, 0.0684, -0.0125, -0.0996, 0.0419, -0.2489, -0.0387, 0.0044, 0.0193, 0.0457, -0.0406, 0.7042, 0.6188, 0.5319, 0.5173, 0.5027, 0.4836, 0.4803, 0.4677, 0.4668, 0.4562, 0.4359, 0.4297, 0.4289, 0.4202, 0.4173, 0.4115, 0.398, 0.3967, 0.3947, 0.3786, 0.3622, 0.3554, 0.3497, 0.3477, 0.3437, 0.3434, 0.3401, 0.3377, 0.3358, 0.3342, 0.3288, 0.3257, 0.3318, 0.3116, 0.2665, 0.3221, 0.2666, 0.2818, 0.2799, 0.1055, 0.2572, 0.1234, 0.2768, 0.1843, 0.1469, 0.224, -0.0435, 0.1838, -0.0133, 0.0513, -0.157, -0.1131, 0.0171, 0.0537, 0.1298, -0.1232, 0.0435, -0.2794, -0.0904, -0.0062, -0.3208, -0.0274, -0.0611], \"logprob\": [30.0, 29.0, 28.0, 27.0, 26.0, 25.0, 24.0, 23.0, 22.0, 21.0, 20.0, 19.0, 18.0, 17.0, 16.0, 15.0, 14.0, 13.0, 12.0, 11.0, 10.0, 9.0, 8.0, 7.0, 6.0, 5.0, 4.0, 3.0, 2.0, 1.0, -5.4498, -5.5809, -6.1086, -4.7106, -5.1984, -5.8494, -6.147, -5.7129, -5.2304, -4.7867, -5.5414, -5.7395, -5.9821, -6.3019, -5.9031, -6.5977, -5.9917, -5.8271, -5.7549, -6.3173, -5.5653, -5.4128, -5.5844, -5.1601, -5.4245, -6.1184, -6.4795, -5.9422, -6.3536, -5.3893, -5.663, -4.6252, -4.4207, -4.9904, -4.9143, -4.9964, -5.2553, -4.3578, -5.2976, -5.1954, -4.5596, -5.3801, -4.768, -4.5863, -4.3062, -5.1764, -4.9529, -4.8388, -5.3331, -5.1428, -5.0519, -4.9263, -5.1386, -4.7826, -5.1321, -5.176, -5.1919, -5.2301, -5.1912, -5.4073, -5.8604, -4.7435, -5.7614, -5.2294, -4.8609, -5.7114, -6.4172, -5.1653, -6.1409, -6.2948, -5.1115, -6.1683, -5.9539, -4.7041, -6.4734, -6.1992, -6.0827, -5.8841, -5.9002, -5.179, -5.9234, -6.3811, -6.0264, -5.8481, -4.7224, -6.3908, -6.3931, -6.3951, -6.2631, -5.2124, -5.5785, -6.0424, -5.2741, -4.2672, -5.8697, -5.1521, -5.3505, -5.4011, -4.1171, -5.2416, -4.7034, -5.5096, -5.1252, -5.0035, -5.4082, -4.66, -5.3575, -4.8616, -5.0421, -4.6145, -4.747, -5.0222, -5.0969, -5.2512, -4.9715, -5.1994, -4.8621, -5.1038, -5.1866, -5.1266, -5.2386, -5.2415], \"Total\": [27.0, 12.0, 26.0, 32.0, 58.0, 34.0, 17.0, 19.0, 21.0, 8.0, 34.0, 21.0, 80.0, 10.0, 21.0, 11.0, 20.0, 24.0, 15.0, 22.0, 19.0, 18.0, 14.0, 13.0, 43.0, 33.0, 21.0, 9.0, 10.0, 16.0, 15.826737777241343, 13.964854759676843, 8.37905726361288, 34.44777787474962, 21.413746970432467, 11.172394384967209, 8.379377617299157, 13.034685604107676, 21.41441295679144, 33.518347554201796, 15.828174439946553, 13.035016348516091, 10.24181187607421, 7.448600028191736, 11.1729701251976, 5.586492423277068, 10.241904474799902, 12.104096120970233, 13.035203671335456, 7.448707452150181, 15.828529090202474, 18.62196972631087, 15.828806051742697, 24.20877346359693, 18.622168401291432, 9.311090877654385, 6.517789365050485, 11.173369919765747, 7.448952954232638, 19.553515744390033, 14.89793962668057, 44.69616666072127, 55.871071949196335, 30.728370899963082, 33.52216535862871, 30.728524974884735, 23.278816613771074, 63.32369310015753, 22.347691780538604, 25.14148566046799, 53.08118095436603, 20.48530372719369, 42.83725059926108, 54.0141842854256, 80.0962082277876, 27.004979617968914, 36.31907831246686, 42.839469637331675, 22.348358658184054, 29.80009333064966, 35.38967085548225, 43.77395214443352, 30.73194897232448, 58.68087498923803, 33.52765394020415, 30.732771602347334, 29.80116203883439, 27.938057205746333, 31.665047112914728, 12.113131764448983, 8.385314541427553, 27.948868151169158, 10.247790402774132, 17.700512724118326, 26.084553078318237, 11.179064300223466, 5.5894749137892425, 19.56314935893664, 7.45256514702819, 6.520890093953259, 21.42567744470248, 7.452405287248293, 9.315443519907419, 32.60397984814885, 5.589229223053686, 7.452229604046287, 8.383750171287224, 10.246790404551156, 10.246667495065173, 21.42459338533686, 10.246494562010788, 6.520469902360572, 9.314943569797293, 11.177900202916467, 34.465185184837964, 6.520425025739714, 6.5204143883725205, 6.5204052507618275, 7.451883653325986, 21.42408434134482, 14.903677769803112, 9.314838459160079, 20.492356755767105, 58.68087498923803, 11.177730635510427, 24.21750567506715, 19.5604900567225, 18.629015181025423, 80.0962082277876, 22.35448263916001, 43.77395214443352, 16.766078535708235, 27.01042821395697, 31.66669454267879, 19.559756506432983, 54.0141842854256, 21.422057870792553, 42.839469637331675, 33.52765394020415, 63.32369310015753, 53.08118095436603, 35.38967085548225, 31.665047112914728, 25.146831744028965, 42.83725059926108, 28.87091710161584, 55.871071949196335, 36.31907831246686, 30.732771602347334, 44.69616666072127, 29.80116203883439, 30.73194897232448], \"Category\": [\"Default\", \"Default\", \"Default\", \"Default\", \"Default\", \"Default\", \"Default\", \"Default\", \"Default\", \"Default\", \"Default\", \"Default\", \"Default\", \"Default\", \"Default\", \"Default\", \"Default\", \"Default\", \"Default\", \"Default\", \"Default\", \"Default\", \"Default\", \"Default\", \"Default\", \"Default\", \"Default\", \"Default\", \"Default\", \"Default\", \"Topic1\", \"Topic1\", \"Topic1\", \"Topic1\", \"Topic1\", \"Topic1\", \"Topic1\", \"Topic1\", \"Topic1\", \"Topic1\", \"Topic1\", \"Topic1\", \"Topic1\", \"Topic1\", \"Topic1\", \"Topic1\", \"Topic1\", \"Topic1\", \"Topic1\", \"Topic1\", \"Topic1\", \"Topic1\", \"Topic1\", \"Topic1\", \"Topic1\", \"Topic1\", \"Topic1\", \"Topic1\", \"Topic1\", \"Topic1\", \"Topic1\", \"Topic1\", \"Topic1\", \"Topic1\", \"Topic1\", \"Topic1\", \"Topic1\", \"Topic1\", \"Topic1\", \"Topic1\", \"Topic1\", \"Topic1\", \"Topic1\", \"Topic1\", \"Topic1\", \"Topic1\", \"Topic1\", \"Topic1\", \"Topic1\", \"Topic1\", \"Topic1\", \"Topic1\", \"Topic1\", \"Topic1\", \"Topic1\", \"Topic1\", \"Topic1\", \"Topic1\", \"Topic1\", \"Topic2\", \"Topic2\", \"Topic2\", \"Topic2\", \"Topic2\", \"Topic2\", \"Topic2\", \"Topic2\", \"Topic2\", \"Topic2\", \"Topic2\", \"Topic2\", \"Topic2\", \"Topic2\", \"Topic2\", \"Topic2\", \"Topic2\", \"Topic2\", \"Topic2\", \"Topic2\", \"Topic2\", \"Topic2\", \"Topic2\", \"Topic2\", \"Topic2\", \"Topic2\", \"Topic2\", \"Topic2\", \"Topic2\", \"Topic2\", \"Topic2\", \"Topic2\", \"Topic2\", \"Topic2\", \"Topic2\", \"Topic2\", \"Topic2\", \"Topic2\", \"Topic2\", \"Topic2\", \"Topic2\", \"Topic2\", \"Topic2\", \"Topic2\", \"Topic2\", \"Topic2\", \"Topic2\", \"Topic2\", \"Topic2\", \"Topic2\", \"Topic2\", \"Topic2\", \"Topic2\", \"Topic2\", \"Topic2\", \"Topic2\", \"Topic2\", \"Topic2\", \"Topic2\", \"Topic2\", \"Topic2\", \"Topic2\", \"Topic2\"], \"Term\": [\"lead\", \"levels\", \"long\", \"even\", \"percent\", \"companies\", \"antonio\", \"spurs\", \"term\", \"remain\", \"business\", \"people\", \"trump\", \"among\", \"months\", \"leading\", \"around\", \"games\", \"bowl\", \"growth\", \"many\", \"report\", \"december\", \"football\", \"state\", \"point\", \"says\", \"agency\", \"spending\", \"though\", \"bowl\", \"football\", \"thing\", \"business\", \"says\", \"later\", \"consider\", \"offseason\", \"well\", \"point\", \"senior\", \"evaluate\", \"came\", \"mike\", \"playing\", \"throughout\", \"went\", \"found\", \"left\", \"national\", \"ball\", \"@\", \"players\", \"sports\", \"plans\", \"lost\", \"offer\", \"services\", \"declined\", \"email\", \"player\", \"james\", \"season\", \"\\u2014\", \"next\", \"like\", \"told\", \"company\", \"much\", \"mobile\", \"million\", \"guard\", \"president\", \"team\", \"trump\", \"going\", \"back\", \"game\", \"make\", \"good\", \"jobs\", \"state\", \"play\", \"percent\", \"years\", \"three\", \"january\", \"billion\", \"take\", \"levels\", \"remain\", \"lead\", \"among\", \"antonio\", \"long\", \"leading\", \"however\", \"spurs\", \"road\", \"efforts\", \"term\", \"terms\", \"agency\", \"even\", \"fall\", \"save\", \"economic\", \"spending\", \"price\", \"people\", \"previous\", \"level\", \"total\", \"number\", \"companies\", \"held\", \"toward\", \"higher\", \"average\", \"months\", \"december\", \"estimates\", \"around\", \"percent\", \"leonard\", \"games\", \"many\", \"report\", \"trump\", \"growth\", \"state\", \"though\", \"expected\", \"according\", \"industry\", \"team\", \"quarter\", \"game\", \"years\", \"company\", \"million\", \"jobs\", \"take\", \"still\", \"president\", \"could\", \"season\", \"back\", \"three\", \"james\", \"january\", \"play\"], \"Freq\": [27.0, 12.0, 26.0, 32.0, 58.0, 34.0, 17.0, 19.0, 21.0, 8.0, 34.0, 21.0, 80.0, 10.0, 21.0, 11.0, 20.0, 24.0, 15.0, 22.0, 19.0, 18.0, 14.0, 13.0, 43.0, 33.0, 21.0, 9.0, 10.0, 16.0, 13.63517932657549, 11.959503137570248, 7.05576409365715, 28.55649237339458, 17.53254428671392, 9.14354300192833, 6.789694594698477, 10.480187697170473, 16.979409846765886, 26.463538094543058, 12.441960261149429, 10.205488192216581, 8.007537835373377, 5.815713144839382, 8.665362412187637, 4.3265678006221115, 7.9306300375087595, 9.349974983780879, 10.04990737380537, 5.726492261722845, 12.14740577359386, 14.149210585328687, 11.917375586974893, 18.217216783764513, 13.984201238480622, 6.986555035008325, 4.869201307433153, 8.333313352073501, 5.522590702694563, 14.484973964809054, 11.017176768535894, 31.101582932342172, 38.159697025898794, 21.58472590019698, 23.292663668864428, 21.456759096755484, 16.561570977366305, 40.6356698576299, 15.875992858963967, 17.584411296557906, 33.20974047813417, 14.619773735096311, 26.961703714255254, 32.33513372257402, 42.78679085005361, 17.922122604580494, 22.410537756061753, 25.11868341232508, 15.322118161740134, 18.534355001848343, 20.298594162994508, 23.01554817309202, 18.612960750581976, 26.571720284452077, 18.73412661337137, 17.9297260403817, 17.646740270312762, 16.985841991146362, 17.659610014839846, 10.267703274527479, 6.526527552461384, 19.942048269398533, 7.205713155777732, 12.266489626404619, 17.733467804687344, 7.575214101401445, 3.7400122323266256, 13.07936628207668, 4.93007829335687, 4.226996706807096, 13.801979059630941, 4.797147020722464, 5.943972041021218, 20.74363850293622, 3.5357082968819262, 4.651057794034493, 5.225676808382239, 6.374165430019102, 6.271960144852947, 12.900530357666591, 6.128157801229838, 3.87758672261735, 5.528238925186632, 6.607209913040458, 20.36632033937938, 3.840269604288689, 3.831424110072438, 3.823825737179202, 4.363382748139726, 12.477235231568025, 8.652311200931562, 5.440834258539075, 11.730470284170435, 32.10915470478595, 6.466206271617405, 13.252820172182094, 10.868025644201726, 10.331401396754538, 37.30941737773399, 12.118631998889976, 20.7584039713415, 9.269051249718832, 13.613632667140385, 15.375356006111678, 10.258042485269502, 21.679050562851582, 10.792125258031463, 17.72078622500659, 14.793527326832773, 22.688023242527628, 19.871440476231864, 15.091076692487743, 14.00543709807488, 12.002605890569217, 15.875546885005827, 12.640551883180155, 17.71137492329754, 13.908540556405104, 12.803045561965634, 13.594583728379096, 12.154421768521628, 12.118988221742505]}, \"topic.order\": [1, 2], \"token.table\": {\"Topic\": [1, 2, 1, 2, 1, 2, 1, 2, 1, 2, 1, 2, 1, 2, 1, 2, 1, 2, 1, 2, 1, 2, 1, 2, 1, 2, 1, 2, 1, 2, 1, 2, 1, 2, 1, 2, 1, 2, 1, 2, 1, 2, 1, 2, 1, 2, 1, 2, 1, 2, 1, 2, 1, 2, 1, 2, 1, 2, 1, 2, 1, 2, 1, 2, 1, 2, 1, 2, 1, 2, 1, 2, 1, 2, 1, 2, 1, 2, 1, 2, 1, 2, 1, 2, 1, 2, 1, 2, 1, 2, 1, 2, 1, 2, 1, 2, 1, 2, 1, 2, 1, 2, 1, 2, 1, 2, 1, 2, 1, 2, 1, 2, 1, 2, 1, 2, 1, 2, 1, 2, 1, 2, 1, 2, 1, 2, 1, 2, 1, 2, 1, 2, 1, 2, 1, 2, 1, 2, 1, 2, 1, 2, 1, 2, 1, 2, 1, 2, 1, 2, 1, 2, 1, 2, 1, 2, 1, 2, 1, 2, 1, 2, 1, 2, 1, 2, 1, 2, 1, 2, 1, 2, 1, 2, 1, 2, 1, 2, 1, 2, 1, 2, 1, 2, 1, 2, 1, 2, 1, 2, 1, 2, 1, 2, 1, 2, 1, 2, 1, 2, 1, 2, 1, 2, 1, 2, 1, 2, 1, 2], \"Term\": [\"@\", \"@\", \"according\", \"according\", \"agency\", \"agency\", \"among\", \"among\", \"antonio\", \"antonio\", \"around\", \"around\", \"average\", \"average\", \"back\", \"back\", \"ball\", \"ball\", \"billion\", \"billion\", \"bowl\", \"bowl\", \"business\", \"business\", \"came\", \"came\", \"companies\", \"companies\", \"company\", \"company\", \"consider\", \"consider\", \"could\", \"could\", \"december\", \"december\", \"declined\", \"declined\", \"economic\", \"economic\", \"efforts\", \"efforts\", \"email\", \"email\", \"estimates\", \"estimates\", \"evaluate\", \"evaluate\", \"even\", \"even\", \"expected\", \"expected\", \"fall\", \"fall\", \"football\", \"football\", \"found\", \"found\", \"game\", \"game\", \"games\", \"games\", \"going\", \"going\", \"good\", \"good\", \"growth\", \"growth\", \"guard\", \"guard\", \"held\", \"held\", \"higher\", \"higher\", \"however\", \"however\", \"industry\", \"industry\", \"james\", \"james\", \"january\", \"january\", \"jobs\", \"jobs\", \"later\", \"later\", \"lead\", \"lead\", \"leading\", \"leading\", \"left\", \"left\", \"leonard\", \"leonard\", \"level\", \"level\", \"levels\", \"levels\", \"like\", \"like\", \"long\", \"long\", \"lost\", \"lost\", \"make\", \"make\", \"many\", \"many\", \"mike\", \"mike\", \"million\", \"million\", \"mobile\", \"mobile\", \"months\", \"months\", \"much\", \"much\", \"national\", \"national\", \"next\", \"next\", \"number\", \"number\", \"offer\", \"offer\", \"offseason\", \"offseason\", \"people\", \"people\", \"percent\", \"percent\", \"plans\", \"plans\", \"play\", \"play\", \"player\", \"player\", \"players\", \"players\", \"playing\", \"playing\", \"point\", \"point\", \"president\", \"president\", \"previous\", \"previous\", \"price\", \"price\", \"quarter\", \"quarter\", \"remain\", \"remain\", \"report\", \"report\", \"road\", \"road\", \"save\", \"save\", \"says\", \"says\", \"season\", \"season\", \"senior\", \"senior\", \"services\", \"services\", \"spending\", \"spending\", \"sports\", \"sports\", \"spurs\", \"spurs\", \"state\", \"state\", \"still\", \"still\", \"take\", \"take\", \"team\", \"team\", \"term\", \"term\", \"terms\", \"terms\", \"thing\", \"thing\", \"though\", \"though\", \"three\", \"three\", \"throughout\", \"throughout\", \"told\", \"told\", \"total\", \"total\", \"toward\", \"toward\", \"trump\", \"trump\", \"well\", \"well\", \"went\", \"went\", \"years\", \"years\", \"\\u2014\", \"\\u2014\"], \"Freq\": [0.7518001696791228, 0.21480004847974937, 0.5052627131144363, 0.47368379354478407, 0.32204585789059836, 0.6440917157811967, 0.29274603422684015, 0.683074079862627, 0.28247769304372244, 0.6779464633049339, 0.43918813766831166, 0.5855841835577489, 0.40258277498213696, 0.536777033309516, 0.6057422440824524, 0.38547233714337875, 0.758124771519531, 0.25270825717317696, 0.6084889824229947, 0.39372816509723185, 0.8845790078187705, 0.1263684296883958, 0.8418540117578132, 0.1741766920878234, 0.7811117892810271, 0.19527794732025677, 0.40620701513476637, 0.580295735906809, 0.6474669747254208, 0.3632131809435288, 0.8353842397015927, 0.2386812113433122, 0.554190916197273, 0.4502801194102843, 0.4025851935793204, 0.6038777903689806, 0.8054823324653547, 0.2684941108217849, 0.35783509034828337, 0.596391817247139, 0.30670659544692763, 0.6134131908938553, 0.7159837741208583, 0.2557084907574494, 0.4294223692163397, 0.5367779615204246, 0.7671643619486831, 0.23014930858460492, 0.3680532271179563, 0.6440931474564235, 0.4812955906149822, 0.5183183283545962, 0.357831092657763, 0.715662185315526, 0.859300021841236, 0.14321667030687266, 0.7435499445850884, 0.2478499815283628, 0.5835739847305254, 0.4201732690059783, 0.4542168854047145, 0.5368017736601172, 0.6665437358087445, 0.33327186790437224, 0.6375818957740758, 0.369126360711307, 0.44733757257626067, 0.5368050870915128, 0.7322322480426738, 0.2928928992170695, 0.4600927068645595, 0.6134569424860793, 0.4600941022261596, 0.6134588029682128, 0.35781536384857854, 0.7156307276971571, 0.46012842731656717, 0.511253808129519, 0.6935717829073387, 0.31322596647428197, 0.6040032927757616, 0.4026688618505077, 0.5651366490994584, 0.42385248682459375, 0.805556954927206, 0.17901265665049024, 0.28623699381061857, 0.7155924845265463, 0.35781169985041067, 0.7156233997008213, 0.7671533373882068, 0.23014600121646203, 0.447317989942927, 0.5367815879315124, 0.4600895403127197, 0.6134527204169596, 0.16511006723049368, 0.8255503361524683, 0.6834041014713161, 0.2928874720591355, 0.3066949230826457, 0.6900635769359528, 0.7517916098101078, 0.21479760280288795, 0.671190230541022, 0.31322210758581026, 0.46011117174985616, 0.5623580988053798, 0.8055204974479739, 0.268506832482658, 0.6216892579758191, 0.3767813684701934, 0.715948144158516, 0.3181991751815627, 0.4200879653293531, 0.5601172871058042, 0.7159576101695448, 0.26848410381357934, 0.8055088803719913, 0.2685029601239971, 0.6861131956703903, 0.29831008507408274, 0.4473112041826453, 0.6262356858557034, 0.7671312649056851, 0.30685250596227404, 0.7671838281123295, 0.2301551484336989, 0.4200779841245278, 0.6067793104020957, 0.4601158385070392, 0.545322475267602, 0.7517921489223087, 0.26849719604368166, 0.6182491067231162, 0.3904731200356523, 0.738357133646871, 0.2684935031443167, 0.7581115063747238, 0.25270383545824127, 0.8055154447878585, 0.2685051482626195, 0.7756945642369738, 0.20884084421764681, 0.6302925519796486, 0.3735066974694214, 0.390377409151236, 0.585566113726854, 0.3903708207499084, 0.5855562311248627, 0.5134894166726024, 0.5134894166726024, 0.23851222158918695, 0.8347927755621544, 0.4294376230982085, 0.5367970288727606, 0.4025459611307511, 0.6709099352179184, 0.40256408610533284, 0.6709401435088881, 0.8405815210599958, 0.18679589356888796, 0.6801372995770238, 0.32217029979964285, 0.7581417582633441, 0.18953543956583602, 0.715988108999055, 0.2684955408746456, 0.3903661382810546, 0.5855492074215819, 0.7435320929028829, 0.24784403096762764, 0.3066990845857413, 0.6645146832691062, 0.5254266264126844, 0.47973735455071187, 0.5169637325420451, 0.4771972915772724, 0.5684501253326296, 0.44212787525871194, 0.5924369760154725, 0.40730042101063735, 0.3733837597736266, 0.6534215796038465, 0.4025545960487761, 0.6709243267479602, 0.8354161786670665, 0.1193451683810095, 0.41750967497208524, 0.5367981535355382, 0.5856940022495459, 0.42300122384689426, 0.716012785291415, 0.17900319632285375, 0.7302776718445083, 0.3007025707595034, 0.429417523576801, 0.6441262853652014, 0.460093457457202, 0.6134579432762693, 0.5368543773971326, 0.4619444642719513, 0.793857857990385, 0.18679008423303176, 0.7811047271221788, 0.1952761817805447, 0.5666963764862908, 0.4473918761733875, 0.7159507437482289, 0.29288894062427545]}, \"lambda.step\": 0.01};\n",
       "\n",
       "function LDAvis_load_lib(url, callback){\n",
       "  var s = document.createElement('script');\n",
       "  s.src = url;\n",
       "  s.async = true;\n",
       "  s.onreadystatechange = s.onload = callback;\n",
       "  s.onerror = function(){console.warn(\"failed to load library \" + url);};\n",
       "  document.getElementsByTagName(\"head\")[0].appendChild(s);\n",
       "}\n",
       "\n",
       "if(typeof(LDAvis) !== \"undefined\"){\n",
       "   // already loaded: just create the visualization\n",
       "   !function(LDAvis){\n",
       "       new LDAvis(\"#\" + \"ldavis_el3443846320988803928963088\", ldavis_el3443846320988803928963088_data);\n",
       "   }(LDAvis);\n",
       "}else if(typeof define === \"function\" && define.amd){\n",
       "   // require.js is available: use it to load d3/LDAvis\n",
       "   require.config({paths: {d3: \"https://cdnjs.cloudflare.com/ajax/libs/d3/3.5.5/d3.min\"}});\n",
       "   require([\"d3\"], function(d3){\n",
       "      window.d3 = d3;\n",
       "      LDAvis_load_lib(\"https://cdn.rawgit.com/bmabey/pyLDAvis/files/ldavis.v1.0.0.js\", function(){\n",
       "        new LDAvis(\"#\" + \"ldavis_el3443846320988803928963088\", ldavis_el3443846320988803928963088_data);\n",
       "      });\n",
       "    });\n",
       "}else{\n",
       "    // require.js not available: dynamically load d3 & LDAvis\n",
       "    LDAvis_load_lib(\"https://cdnjs.cloudflare.com/ajax/libs/d3/3.5.5/d3.min.js\", function(){\n",
       "         LDAvis_load_lib(\"https://cdn.rawgit.com/bmabey/pyLDAvis/files/ldavis.v1.0.0.js\", function(){\n",
       "                 new LDAvis(\"#\" + \"ldavis_el3443846320988803928963088\", ldavis_el3443846320988803928963088_data);\n",
       "            })\n",
       "         });\n",
       "}\n",
       "</script>"
      ],
      "text/plain": [
       "PreparedData(topic_coordinates=            Freq  cluster  topics         x    y\n",
       "topic                                           \n",
       "0      58.081744        1       1  0.013501  0.0\n",
       "1      41.918256        1       2 -0.013501  0.0, topic_info=     Category       Freq       Term      Total  loglift  logprob\n",
       "term                                                            \n",
       "366   Default  27.000000       lead  27.000000  30.0000  30.0000\n",
       "199   Default  12.000000     levels  12.000000  29.0000  29.0000\n",
       "110   Default  26.000000       long  26.000000  28.0000  28.0000\n",
       "151   Default  32.000000       even  32.000000  27.0000  27.0000\n",
       "271   Default  58.000000    percent  58.000000  26.0000  26.0000\n",
       "267   Default  34.000000  companies  34.000000  25.0000  25.0000\n",
       "101   Default  17.000000    antonio  17.000000  24.0000  24.0000\n",
       "3     Default  19.000000      spurs  19.000000  23.0000  23.0000\n",
       "22    Default  21.000000       term  21.000000  22.0000  22.0000\n",
       "54    Default   8.000000     remain   8.000000  21.0000  21.0000\n",
       "78    Default  34.000000   business  34.000000  20.0000  20.0000\n",
       "346   Default  21.000000     people  21.000000  19.0000  19.0000\n",
       "93    Default  80.000000      trump  80.000000  18.0000  18.0000\n",
       "375   Default  10.000000      among  10.000000  17.0000  17.0000\n",
       "148   Default  21.000000     months  21.000000  16.0000  16.0000\n",
       "370   Default  11.000000    leading  11.000000  15.0000  15.0000\n",
       "100   Default  20.000000     around  20.000000  14.0000  14.0000\n",
       "169   Default  24.000000      games  24.000000  13.0000  13.0000\n",
       "273   Default  15.000000       bowl  15.000000  12.0000  12.0000\n",
       "311   Default  22.000000     growth  22.000000  11.0000  11.0000\n",
       "168   Default  19.000000       many  19.000000  10.0000  10.0000\n",
       "144   Default  18.000000     report  18.000000   9.0000   9.0000\n",
       "306   Default  14.000000   december  14.000000   8.0000   8.0000\n",
       "312   Default  13.000000   football  13.000000   7.0000   7.0000\n",
       "266   Default  43.000000      state  43.000000   6.0000   6.0000\n",
       "320   Default  33.000000      point  33.000000   5.0000   5.0000\n",
       "378   Default  21.000000       says  21.000000   4.0000   4.0000\n",
       "329   Default   9.000000     agency   9.000000   3.0000   3.0000\n",
       "82    Default  10.000000   spending  10.000000   2.0000   2.0000\n",
       "229   Default  16.000000     though  16.000000   1.0000   1.0000\n",
       "...       ...        ...        ...        ...      ...      ...\n",
       "100    Topic2  11.730470     around  20.492357   0.3116  -5.2741\n",
       "271    Topic2  32.109155    percent  58.680875   0.2665  -4.2672\n",
       "14     Topic2   6.466206    leonard  11.177731   0.3221  -5.8697\n",
       "169    Topic2  13.252820      games  24.217506   0.2666  -5.1521\n",
       "168    Topic2  10.868026       many  19.560490   0.2818  -5.3505\n",
       "144    Topic2  10.331401     report  18.629015   0.2799  -5.4011\n",
       "93     Topic2  37.309417      trump  80.096208   0.1055  -4.1171\n",
       "311    Topic2  12.118632     growth  22.354483   0.2572  -5.2416\n",
       "266    Topic2  20.758404      state  43.773952   0.1234  -4.7034\n",
       "229    Topic2   9.269051     though  16.766079   0.2768  -5.5096\n",
       "198    Topic2  13.613633   expected  27.010428   0.1843  -5.1252\n",
       "145    Topic2  15.375356  according  31.666695   0.1469  -5.0035\n",
       "196    Topic2  10.258042   industry  19.559757   0.2240  -5.4082\n",
       "205    Topic2  21.679051       team  54.014184  -0.0435  -4.6600\n",
       "154    Topic2  10.792125    quarter  21.422058   0.1838  -5.3575\n",
       "41     Topic2  17.720786       game  42.839470  -0.0133  -4.8616\n",
       "213    Topic2  14.793527      years  33.527654   0.0513  -5.0421\n",
       "161    Topic2  22.688023    company  63.323693  -0.1570  -4.6145\n",
       "292    Topic2  19.871440    million  53.081181  -0.1131  -4.7470\n",
       "238    Topic2  15.091077       jobs  35.389671   0.0171  -5.0222\n",
       "28     Topic2  14.005437       take  31.665047   0.0537  -5.0969\n",
       "7      Topic2  12.002606      still  25.146832   0.1298  -5.2512\n",
       "240    Topic2  15.875547  president  42.837251  -0.1232  -4.9715\n",
       "189    Topic2  12.640552      could  28.870917   0.0435  -5.1994\n",
       "258    Topic2  17.711375     season  55.871072  -0.2794  -4.8621\n",
       "393    Topic2  13.908541       back  36.319078  -0.0904  -5.1038\n",
       "357    Topic2  12.803046      three  30.732772  -0.0062  -5.1866\n",
       "147    Topic2  13.594584      james  44.696167  -0.3208  -5.1266\n",
       "260    Topic2  12.154422    january  29.801162  -0.0274  -5.2386\n",
       "270    Topic2  12.118988       play  30.731949  -0.0611  -5.2415\n",
       "\n",
       "[152 rows x 6 columns], token_table=      Topic      Freq        Term\n",
       "term                             \n",
       "344       1  0.751800           @\n",
       "344       2  0.214800           @\n",
       "145       1  0.505263   according\n",
       "145       2  0.473684   according\n",
       "329       1  0.322046      agency\n",
       "329       2  0.644092      agency\n",
       "375       1  0.292746       among\n",
       "375       2  0.683074       among\n",
       "101       1  0.282478     antonio\n",
       "101       2  0.677946     antonio\n",
       "100       1  0.439188      around\n",
       "100       2  0.585584      around\n",
       "141       1  0.402583     average\n",
       "141       2  0.536777     average\n",
       "393       1  0.605742        back\n",
       "393       2  0.385472        back\n",
       "249       1  0.758125        ball\n",
       "249       2  0.252708        ball\n",
       "52        1  0.608489     billion\n",
       "52        2  0.393728     billion\n",
       "273       1  0.884579        bowl\n",
       "273       2  0.126368        bowl\n",
       "78        1  0.841854    business\n",
       "78        2  0.174177    business\n",
       "126       1  0.781112        came\n",
       "126       2  0.195278        came\n",
       "267       1  0.406207   companies\n",
       "267       2  0.580296   companies\n",
       "161       1  0.647467     company\n",
       "161       2  0.363213     company\n",
       "...     ...       ...         ...\n",
       "205       1  0.592437        team\n",
       "205       2  0.407300        team\n",
       "22        1  0.373384        term\n",
       "22        2  0.653422        term\n",
       "284       1  0.402555       terms\n",
       "284       2  0.670924       terms\n",
       "193       1  0.835416       thing\n",
       "193       2  0.119345       thing\n",
       "229       1  0.417510      though\n",
       "229       2  0.536798      though\n",
       "357       1  0.585694       three\n",
       "357       2  0.423001       three\n",
       "384       1  0.716013  throughout\n",
       "384       2  0.179003  throughout\n",
       "10        1  0.730278        told\n",
       "10        2  0.300703        told\n",
       "368       1  0.429418       total\n",
       "368       2  0.644126       total\n",
       "343       1  0.460093      toward\n",
       "343       2  0.613458      toward\n",
       "93        1  0.536854       trump\n",
       "93        2  0.461944       trump\n",
       "150       1  0.793858        well\n",
       "150       2  0.186790        well\n",
       "400       1  0.781105        went\n",
       "400       2  0.195276        went\n",
       "213       1  0.566696       years\n",
       "213       2  0.447392       years\n",
       "218       1  0.715951           —\n",
       "218       2  0.292889           —\n",
       "\n",
       "[210 rows x 3 columns], R=30, lambda_step=0.01, plot_opts={'ylab': 'PC2', 'xlab': 'PC1'}, topic_order=[1, 2])"
      ]
     },
     "execution_count": 13,
     "metadata": {},
     "output_type": "execute_result"
    }
   ],
   "source": [
    "# Fit the LDA Model by assigning two topics\n",
    "pylda = LdaModel(corpus=corpus, id2word=dictionary, num_topics=2)\n",
    "\n",
    "# Call pyLDAvis to visualize the fitted topic model\n",
    "pyLDAvis.enable_notebook()\n",
    "pyLDAvis.gensim.prepare(pylda, corpus, dictionary)"
   ]
  },
  {
   "cell_type": "code",
   "execution_count": null,
   "metadata": {
    "collapsed": true
   },
   "outputs": [],
   "source": [
    ""
   ]
  }
 ],
 "metadata": {
  "anaconda-cloud": {},
  "kernelspec": {
   "display_name": "Python [conda root]",
   "language": "python",
   "name": "conda-root-py"
  },
  "language_info": {
   "codemirror_mode": {
    "name": "ipython",
    "version": 3.0
   },
   "file_extension": ".py",
   "mimetype": "text/x-python",
   "name": "python",
   "nbconvert_exporter": "python",
   "pygments_lexer": "ipython3",
   "version": "3.5.2"
  }
 },
 "nbformat": 4,
 "nbformat_minor": 0
}
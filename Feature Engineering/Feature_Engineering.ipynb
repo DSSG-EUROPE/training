{
 "cells": [
  {
   "cell_type": "markdown",
   "metadata": {},
   "source": [
    "## Feature Engineering\n",
    "\n",
    "Now you have cleaned up the data and want to run some machine learning model to get some results. What’s the value of data science skills if you could simply run one-liner scikit-learn to make the prediction (think about Kaggle compeition)?\n",
    "\n",
    "The questions may now become: how to makes a good prediction (model selection)?\n",
    "1. **Choose the right feature (feature engineering/featurization)**\n",
    "2. Choose the right algorithm (algorithm selection)\n",
    "3. Choose the right parameter (parameter tuning)\n",
    "\n",
    "![alt text](https://i1.wp.com/adataanalyst.com/wp-content/uploads/2016/08/Feature-Engineering.jpg \"Feature Engineering\")\n",
    "\n",
    "Feature engineering: represent the data in the **_best way_** (pertinent structures/properties of the underlying information in the most effective way). \n",
    "\n",
    "> - \"Coming up with features is difficult, time-consuming, requires expert knowledge. **\"Applied machine learning\" is basically feature engineering.**\"\n",
    ">  by Andrew Ng, _Machine Learning and AI via Brain simulations_\n",
    "> - \"At the end of the day, some machine learning projects succeed and some fail. What makes the difference? **Easily the most important factor is the features used.**\" by Pedro Domingos, _A Few Useful Things to Know about Machine Learning_\n",
    "> - \"Good input features are essential for successful machine learning. **Feature engineering ≈ 90% of effort in industrial machine learning**” by Joshua Bengio, _Deep Learning for Big Data_     \n",
    "\n",
    "Good feature engineering involves an elegant blend of domain knowledge, intuition, and basic mathematical abilities.\n",
    "\n",
    "1. Hand-craft features from domain knowledge\n",
    "2. Automated feature learning from data (learning of representation from shallow or deep learning)\n",
    "\n",
    "Iterative feature engineering process:\n",
    "1. Brainstorm the features (learn from partners, literatures, projects, etc.)\n",
    "2. Devise features using manual **feature construction/transformation**, automatic **feature extraction** (e.g. from text, image, video), or the comination of the both\n",
    "3. Choose features using different feature importance metrics to perform **feature selection** \n",
    "4. Check how features work with the model and improve the feature if needed\n",
    "\n",
    "We will cover a few common examples of feature engineering tasks: features for representing categorical data and numerical data. We mainly rely on nice functions in `pandas`, `sklearn.preprocessing` and `sklearn.feature_selection`."
   ]
  },
  {
   "cell_type": "code",
   "execution_count": 209,
   "metadata": {
    "collapsed": true
   },
   "outputs": [],
   "source": [
    "import numpy as np\n",
    "import pandas as pd\n",
    "import matplotlib.pyplot as plt\n",
    "import seaborn as sns\n",
    "\n",
    "sns.set_style(\"white\")\n",
    "sns.set(font_scale=1.3)\n",
    "%matplotlib inline"
   ]
  },
  {
   "cell_type": "markdown",
   "metadata": {},
   "source": [
    "### Encoding Categorical variables\n",
    "Most implementations of ML algorithms require numerical data as input, and we have to prepare our data accordingly. Categorical variables, e.g. gender cannot be directly loaded into a ML algorithm without proper transformation. "
   ]
  },
  {
   "cell_type": "code",
   "execution_count": 87,
   "metadata": {},
   "outputs": [
    {
     "data": {
      "text/html": [
       "<div>\n",
       "<style>\n",
       "    .dataframe thead tr:only-child th {\n",
       "        text-align: right;\n",
       "    }\n",
       "\n",
       "    .dataframe thead th {\n",
       "        text-align: left;\n",
       "    }\n",
       "\n",
       "    .dataframe tbody tr th {\n",
       "        vertical-align: top;\n",
       "    }\n",
       "</style>\n",
       "<table border=\"1\" class=\"dataframe\">\n",
       "  <thead>\n",
       "    <tr style=\"text-align: right;\">\n",
       "      <th></th>\n",
       "      <th>color</th>\n",
       "      <th>size</th>\n",
       "      <th>price</th>\n",
       "      <th>class label</th>\n",
       "    </tr>\n",
       "  </thead>\n",
       "  <tbody>\n",
       "    <tr>\n",
       "      <th>0</th>\n",
       "      <td>green</td>\n",
       "      <td>M</td>\n",
       "      <td>10.0</td>\n",
       "      <td>class1</td>\n",
       "    </tr>\n",
       "    <tr>\n",
       "      <th>1</th>\n",
       "      <td>red</td>\n",
       "      <td>L</td>\n",
       "      <td>20.0</td>\n",
       "      <td>class2</td>\n",
       "    </tr>\n",
       "    <tr>\n",
       "      <th>2</th>\n",
       "      <td>blue</td>\n",
       "      <td>XL</td>\n",
       "      <td>30.0</td>\n",
       "      <td>class1</td>\n",
       "    </tr>\n",
       "  </tbody>\n",
       "</table>\n",
       "</div>"
      ],
      "text/plain": [
       "   color size  price class label\n",
       "0  green    M   10.0      class1\n",
       "1    red    L   20.0      class2\n",
       "2   blue   XL   30.0      class1"
      ]
     },
     "execution_count": 87,
     "metadata": {},
     "output_type": "execute_result"
    }
   ],
   "source": [
    "# Load example data\n",
    "df = pd.DataFrame([\n",
    "            ['green', 'M', 10.0, 'class1'], \n",
    "            ['red', 'L', 20.0, 'class2'], \n",
    "            ['blue', 'XL', 30.0, 'class1']])\n",
    "\n",
    "df.columns = ['color', 'size', 'price', 'class label']\n",
    "df\n"
   ]
  },
  {
   "cell_type": "markdown",
   "metadata": {},
   "source": [
    "Ordinal features need special attention: we have to make sure that the correct values are associated with the corresponding strings. Thus, we need to set-up an explicit mapping dictionary:"
   ]
  },
  {
   "cell_type": "code",
   "execution_count": 10,
   "metadata": {},
   "outputs": [
    {
     "data": {
      "text/html": [
       "<div>\n",
       "<style>\n",
       "    .dataframe thead tr:only-child th {\n",
       "        text-align: right;\n",
       "    }\n",
       "\n",
       "    .dataframe thead th {\n",
       "        text-align: left;\n",
       "    }\n",
       "\n",
       "    .dataframe tbody tr th {\n",
       "        vertical-align: top;\n",
       "    }\n",
       "</style>\n",
       "<table border=\"1\" class=\"dataframe\">\n",
       "  <thead>\n",
       "    <tr style=\"text-align: right;\">\n",
       "      <th></th>\n",
       "      <th>color</th>\n",
       "      <th>size</th>\n",
       "      <th>price</th>\n",
       "      <th>class label</th>\n",
       "    </tr>\n",
       "  </thead>\n",
       "  <tbody>\n",
       "    <tr>\n",
       "      <th>0</th>\n",
       "      <td>green</td>\n",
       "      <td>1</td>\n",
       "      <td>10.1</td>\n",
       "      <td>class1</td>\n",
       "    </tr>\n",
       "    <tr>\n",
       "      <th>1</th>\n",
       "      <td>red</td>\n",
       "      <td>2</td>\n",
       "      <td>13.5</td>\n",
       "      <td>class2</td>\n",
       "    </tr>\n",
       "    <tr>\n",
       "      <th>2</th>\n",
       "      <td>blue</td>\n",
       "      <td>3</td>\n",
       "      <td>15.3</td>\n",
       "      <td>class1</td>\n",
       "    </tr>\n",
       "  </tbody>\n",
       "</table>\n",
       "</div>"
      ],
      "text/plain": [
       "   color  size  price class label\n",
       "0  green     1   10.1      class1\n",
       "1    red     2   13.5      class2\n",
       "2   blue     3   15.3      class1"
      ]
     },
     "execution_count": 10,
     "metadata": {},
     "output_type": "execute_result"
    }
   ],
   "source": [
    "size_mapping = {\n",
    "           'XL': 3,\n",
    "           'L': 2,\n",
    "           'M': 1}\n",
    "\n",
    "df['size'] = df['size'].map(size_mapping)\n",
    "df"
   ]
  },
  {
   "cell_type": "markdown",
   "metadata": {},
   "source": [
    "Using the *get_dummies* will create a new column for every unique string in a certain column (_aka_ dummification) This essentially transforms each categorical feature with m possible values into m binary features, with only one active.\n",
    "\n",
    "*dummy\\_na* option adds a column to indicate NaNs and *drop\\_firs* gets k-1 dummies out of k categorical levels by removing the first level."
   ]
  },
  {
   "cell_type": "code",
   "execution_count": 12,
   "metadata": {},
   "outputs": [
    {
     "data": {
      "text/html": [
       "<div>\n",
       "<style>\n",
       "    .dataframe thead tr:only-child th {\n",
       "        text-align: right;\n",
       "    }\n",
       "\n",
       "    .dataframe thead th {\n",
       "        text-align: left;\n",
       "    }\n",
       "\n",
       "    .dataframe tbody tr th {\n",
       "        vertical-align: top;\n",
       "    }\n",
       "</style>\n",
       "<table border=\"1\" class=\"dataframe\">\n",
       "  <thead>\n",
       "    <tr style=\"text-align: right;\">\n",
       "      <th></th>\n",
       "      <th>price</th>\n",
       "      <th>color_blue</th>\n",
       "      <th>color_green</th>\n",
       "      <th>color_red</th>\n",
       "      <th>size_L</th>\n",
       "      <th>size_M</th>\n",
       "      <th>size_XL</th>\n",
       "      <th>class label_class1</th>\n",
       "      <th>class label_class2</th>\n",
       "    </tr>\n",
       "  </thead>\n",
       "  <tbody>\n",
       "    <tr>\n",
       "      <th>0</th>\n",
       "      <td>10.1</td>\n",
       "      <td>0</td>\n",
       "      <td>1</td>\n",
       "      <td>0</td>\n",
       "      <td>0</td>\n",
       "      <td>1</td>\n",
       "      <td>0</td>\n",
       "      <td>1</td>\n",
       "      <td>0</td>\n",
       "    </tr>\n",
       "    <tr>\n",
       "      <th>1</th>\n",
       "      <td>13.5</td>\n",
       "      <td>0</td>\n",
       "      <td>0</td>\n",
       "      <td>1</td>\n",
       "      <td>1</td>\n",
       "      <td>0</td>\n",
       "      <td>0</td>\n",
       "      <td>0</td>\n",
       "      <td>1</td>\n",
       "    </tr>\n",
       "    <tr>\n",
       "      <th>2</th>\n",
       "      <td>15.3</td>\n",
       "      <td>1</td>\n",
       "      <td>0</td>\n",
       "      <td>0</td>\n",
       "      <td>0</td>\n",
       "      <td>0</td>\n",
       "      <td>1</td>\n",
       "      <td>1</td>\n",
       "      <td>0</td>\n",
       "    </tr>\n",
       "  </tbody>\n",
       "</table>\n",
       "</div>"
      ],
      "text/plain": [
       "   price  color_blue  color_green  color_red  size_L  size_M  size_XL  \\\n",
       "0   10.1           0            1          0       0       1        0   \n",
       "1   13.5           0            0          1       1       0        0   \n",
       "2   15.3           1            0          0       0       0        1   \n",
       "\n",
       "   class label_class1  class label_class2  \n",
       "0                   1                   0  \n",
       "1                   0                   1  \n",
       "2                   1                   0  "
      ]
     },
     "execution_count": 12,
     "metadata": {},
     "output_type": "execute_result"
    }
   ],
   "source": [
    "pd.get_dummies(df)"
   ]
  },
  {
   "cell_type": "markdown",
   "metadata": {},
   "source": [
    "Simiarly, converting categorical variables to features with scikit-learn is to transform lists of feature-value mappings to vectors with *DictVectorizer*. This transformer turns lists of mappings (dict-like objects) of feature names to feature values into Numpy/Scipy arrays for use with scikit-learn estimators."
   ]
  },
  {
   "cell_type": "code",
   "execution_count": 73,
   "metadata": {},
   "outputs": [
    {
     "name": "stdout",
     "output_type": "stream",
     "text": [
      "[[  1.    0.    1.   10.1   0.    1.    0. ]\n",
      " [  0.    1.    2.   13.5   1.    0.    0. ]\n",
      " [  1.    0.    0.   15.3   0.    0.    1. ]]\n"
     ]
    }
   ],
   "source": [
    "from sklearn.feature_extraction import DictVectorizer\n",
    "\n",
    "dvec = DictVectorizer(sparse=False)\n",
    "\n",
    "X = dvec.fit_transform(df.transpose().to_dict().values())\n",
    "print X"
   ]
  },
  {
   "cell_type": "markdown",
   "metadata": {},
   "source": [
    "Once converting numpy array to data.frame, we essentially get the same results as we use *get_dummies*."
   ]
  },
  {
   "cell_type": "code",
   "execution_count": 63,
   "metadata": {},
   "outputs": [
    {
     "data": {
      "text/html": [
       "<div>\n",
       "<style>\n",
       "    .dataframe thead tr:only-child th {\n",
       "        text-align: right;\n",
       "    }\n",
       "\n",
       "    .dataframe thead th {\n",
       "        text-align: left;\n",
       "    }\n",
       "\n",
       "    .dataframe tbody tr th {\n",
       "        vertical-align: top;\n",
       "    }\n",
       "</style>\n",
       "<table border=\"1\" class=\"dataframe\">\n",
       "  <thead>\n",
       "    <tr style=\"text-align: right;\">\n",
       "      <th></th>\n",
       "      <th>class label=class1</th>\n",
       "      <th>class label=class2</th>\n",
       "      <th>color=blue</th>\n",
       "      <th>color=green</th>\n",
       "      <th>color=red</th>\n",
       "      <th>price</th>\n",
       "      <th>size=L</th>\n",
       "      <th>size=M</th>\n",
       "      <th>size=XL</th>\n",
       "    </tr>\n",
       "  </thead>\n",
       "  <tbody>\n",
       "    <tr>\n",
       "      <th>0</th>\n",
       "      <td>1.0</td>\n",
       "      <td>0.0</td>\n",
       "      <td>0.0</td>\n",
       "      <td>1.0</td>\n",
       "      <td>0.0</td>\n",
       "      <td>10.1</td>\n",
       "      <td>0.0</td>\n",
       "      <td>1.0</td>\n",
       "      <td>0.0</td>\n",
       "    </tr>\n",
       "    <tr>\n",
       "      <th>1</th>\n",
       "      <td>0.0</td>\n",
       "      <td>1.0</td>\n",
       "      <td>0.0</td>\n",
       "      <td>0.0</td>\n",
       "      <td>1.0</td>\n",
       "      <td>13.5</td>\n",
       "      <td>1.0</td>\n",
       "      <td>0.0</td>\n",
       "      <td>0.0</td>\n",
       "    </tr>\n",
       "    <tr>\n",
       "      <th>2</th>\n",
       "      <td>1.0</td>\n",
       "      <td>0.0</td>\n",
       "      <td>1.0</td>\n",
       "      <td>0.0</td>\n",
       "      <td>0.0</td>\n",
       "      <td>15.3</td>\n",
       "      <td>0.0</td>\n",
       "      <td>0.0</td>\n",
       "      <td>1.0</td>\n",
       "    </tr>\n",
       "  </tbody>\n",
       "</table>\n",
       "</div>"
      ],
      "text/plain": [
       "   class label=class1  class label=class2  color=blue  color=green  color=red  \\\n",
       "0                 1.0                 0.0         0.0          1.0        0.0   \n",
       "1                 0.0                 1.0         0.0          0.0        1.0   \n",
       "2                 1.0                 0.0         1.0          0.0        0.0   \n",
       "\n",
       "   price  size=L  size=M  size=XL  \n",
       "0   10.1     0.0     1.0      0.0  \n",
       "1   13.5     1.0     0.0      0.0  \n",
       "2   15.3     0.0     0.0      1.0  "
      ]
     },
     "execution_count": 63,
     "metadata": {},
     "output_type": "execute_result"
    }
   ],
   "source": [
    "pd.DataFrame(X, columns=dvec.get_feature_names())"
   ]
  },
  {
   "cell_type": "markdown",
   "metadata": {},
   "source": [
    "Note that this transformer will only do a *one-of-K* or *one-hot encoding*, when feature values are of type string. If categorical features are represented as numeric values such as int, the DictVectorizer can be followed by OneHotEncoder to complete binary one-hot encoding."
   ]
  },
  {
   "cell_type": "code",
   "execution_count": 81,
   "metadata": {},
   "outputs": [
    {
     "data": {
      "text/html": [
       "<div>\n",
       "<style>\n",
       "    .dataframe thead tr:only-child th {\n",
       "        text-align: right;\n",
       "    }\n",
       "\n",
       "    .dataframe thead th {\n",
       "        text-align: left;\n",
       "    }\n",
       "\n",
       "    .dataframe tbody tr th {\n",
       "        vertical-align: top;\n",
       "    }\n",
       "</style>\n",
       "<table border=\"1\" class=\"dataframe\">\n",
       "  <thead>\n",
       "    <tr style=\"text-align: right;\">\n",
       "      <th></th>\n",
       "      <th>color</th>\n",
       "      <th>size</th>\n",
       "      <th>price</th>\n",
       "      <th>class label</th>\n",
       "    </tr>\n",
       "  </thead>\n",
       "  <tbody>\n",
       "    <tr>\n",
       "      <th>0</th>\n",
       "      <td>1</td>\n",
       "      <td>M</td>\n",
       "      <td>10.1</td>\n",
       "      <td>class1</td>\n",
       "    </tr>\n",
       "    <tr>\n",
       "      <th>1</th>\n",
       "      <td>2</td>\n",
       "      <td>L</td>\n",
       "      <td>13.5</td>\n",
       "      <td>class2</td>\n",
       "    </tr>\n",
       "    <tr>\n",
       "      <th>2</th>\n",
       "      <td>0</td>\n",
       "      <td>XL</td>\n",
       "      <td>15.3</td>\n",
       "      <td>class1</td>\n",
       "    </tr>\n",
       "  </tbody>\n",
       "</table>\n",
       "</div>"
      ],
      "text/plain": [
       "   color size  price class label\n",
       "0      1    M   10.1      class1\n",
       "1      2    L   13.5      class2\n",
       "2      0   XL   15.3      class1"
      ]
     },
     "execution_count": 81,
     "metadata": {},
     "output_type": "execute_result"
    }
   ],
   "source": [
    "from sklearn.preprocessing import LabelEncoder\n",
    "\n",
    "color_le = LabelEncoder()\n",
    "df['color'] = color_le.fit_transform(df['color'])\n",
    "\n",
    "df"
   ]
  },
  {
   "cell_type": "markdown",
   "metadata": {},
   "source": [
    "Then _OneHotEncoder_ can encode the numeric value as if it were categorical values. "
   ]
  },
  {
   "cell_type": "code",
   "execution_count": 82,
   "metadata": {},
   "outputs": [
    {
     "name": "stdout",
     "output_type": "stream",
     "text": [
      "[[ 0.  1.  0.]\n",
      " [ 0.  0.  1.]\n",
      " [ 1.  0.  0.]]\n"
     ]
    }
   ],
   "source": [
    "from sklearn.preprocessing import OneHotEncoder\n",
    "ohe = OneHotEncoder(sparse=False)\n",
    "\n",
    "X = ohe.fit_transform(df[['color']].values)\n",
    "print X\n",
    "#pd.DataFrame(X, columns=dvec.get_feature_names())"
   ]
  },
  {
   "cell_type": "markdown",
   "metadata": {},
   "source": [
    "### Encoding Numerical Values\n",
    "**sklearn.preprocessing** also provides numerous transformation functions to encode numerical values into features:\n",
    "1. Standardization\n",
    "2. Normalization\n",
    "3. Binarization\n",
    "4. Imputation of missing values\n",
    "\n",
    "**Standardization** handles data measured at different units of measurement before applying ML algorithims. If a feature has a variance that is orders of magnitude larger than others, it might dominate the objective function and make the estimator unable to learn from other features correctly as expected (e.g. graident descent often used in logistic regression, SVMs, perceptrons, neural networks may update weights of certain features faster than others).\n",
    "\n",
    "**Z-score normalization** transform the data to center it by removing the mean value of each feature, then scale it by dividing non-constant features by their standard deviation: \n",
    "\\begin{equation} z = \\frac{x - \\mu}{\\sigma}\\end{equation} "
   ]
  },
  {
   "cell_type": "code",
   "execution_count": 103,
   "metadata": {},
   "outputs": [
    {
     "name": "stdout",
     "output_type": "stream",
     "text": [
      "   color size     price class label\n",
      "0  green    M -1.224745      class1\n",
      "1    red    L  0.000000      class2\n",
      "2   blue   XL  1.224745      class1\n",
      "The mean of price after standardizationis 0.000000 and std is 1.224745\n"
     ]
    }
   ],
   "source": [
    "from sklearn.preprocessing import scale\n",
    "\n",
    "df['price'] = scale(df['price'])\n",
    "print df\n",
    "print \"The mean of price after standardizationis %f and std is %f\" \\\n",
    "% (df['price'].mean(axis=0), df['price'].std(axis=0))"
   ]
  },
  {
   "cell_type": "markdown",
   "metadata": {},
   "source": [
    "_StandardScaler_ can be used to standardize features on a training set so as to be able to later reapply the same transformation on the testing set. "
   ]
  },
  {
   "cell_type": "code",
   "execution_count": 164,
   "metadata": {},
   "outputs": [
    {
     "name": "stdout",
     "output_type": "stream",
     "text": [
      "     0    1    2    3\n",
      "0  5.1  3.5  1.4  0.2\n",
      "1  4.9  3.0  1.4  0.2\n",
      "2  4.7  3.2  1.3  0.2\n",
      "3  4.6  3.1  1.5  0.2\n",
      "4  5.0  3.6  1.4  0.2\n",
      "          0         1         2         3\n",
      "0 -0.900681  1.032057 -1.341272 -1.312977\n",
      "1 -1.143017 -0.124958 -1.341272 -1.312977\n",
      "2 -1.385353  0.337848 -1.398138 -1.312977\n",
      "3 -1.506521  0.106445 -1.284407 -1.312977\n",
      "4 -1.021849  1.263460 -1.341272 -1.312977\n"
     ]
    }
   ],
   "source": [
    "from sklearn.datasets import load_iris\n",
    "from sklearn.preprocessing import StandardScaler\n",
    "\n",
    "iris = load_iris()\n",
    "\n",
    "X = iris.data\n",
    "y = iris.target\n",
    "\n",
    "print(pd.DataFrame(X).head())\n",
    "\n",
    "standardized_X = StandardScaler().fit_transform(X)\n",
    "\n",
    "print(pd.DataFrame(standardized_X).head())"
   ]
  },
  {
   "cell_type": "markdown",
   "metadata": {},
   "source": [
    "An alternative approach to Z-score normalization (or standardization) is the so-called **Min-Max scaling** to scale features to lie between a given minimum and maximum value, often between zero and one: \n",
    "\\begin{equation} X_{norm} = \\frac{X - X_{min}}{X_{max}-X_{min}} \\end{equation}\n",
    "\n",
    "The motivation to use this scaling include robustness to very small standard deviations of features to suppress the effect of outlier and preserving zero entries in sparse data."
   ]
  },
  {
   "cell_type": "code",
   "execution_count": 126,
   "metadata": {},
   "outputs": [
    {
     "name": "stdout",
     "output_type": "stream",
     "text": [
      "          0         1         2         3\n",
      "0  0.222222  0.625000  0.067797  0.041667\n",
      "1  0.166667  0.416667  0.067797  0.041667\n",
      "2  0.111111  0.500000  0.050847  0.041667\n",
      "3  0.083333  0.458333  0.084746  0.041667\n",
      "4  0.194444  0.666667  0.067797  0.041667\n",
      "[ 0.22925036  0.18006108  0.29805579  0.31692192]\n"
     ]
    }
   ],
   "source": [
    "from sklearn.preprocessing import MinMaxScaler\n",
    "\n",
    "X_minmax = MinMaxScaler().fit_transform(X)\n",
    "\n",
    "print(pd.DataFrame(X_minmax).head())\n",
    "\n",
    "print X_minmax.std(axis=0)"
   ]
  },
  {
   "cell_type": "markdown",
   "metadata": {},
   "source": [
    "\"Standardization or Min-Max scaling?\" The answer depends on the application. For example, in clustering analyses, standardization may be especially crucial in order to compare similarities between features based on certain distance measures. On the other hand, typical neural network algorithm require data that on a 0-1 scale that Min-Max scaling would be helpful.\n",
    "\n",
    "**Normalization**  is the process of **scaling individual samples to have unit norm.** Scaling inputs to unit norms is a common operation for text classification or clustering."
   ]
  },
  {
   "cell_type": "code",
   "execution_count": 179,
   "metadata": {},
   "outputs": [
    {
     "name": "stdout",
     "output_type": "stream",
     "text": [
      "          0         1         2         3\n",
      "0  0.803773  0.551609  0.220644  0.031521\n",
      "1  0.828133  0.507020  0.236609  0.033801\n",
      "2  0.805333  0.548312  0.222752  0.034269\n",
      "3  0.800030  0.539151  0.260879  0.034784\n",
      "4  0.790965  0.569495  0.221470  0.031639\n"
     ]
    }
   ],
   "source": [
    "from sklearn.preprocessing import Normalizer\n",
    "\n",
    "X_norm = Normalizer(norm='l2').fit_transform(X) \n",
    "X_norm2 = Normalizer(norm='l2').fit_transform(X_minmax) \n",
    "print(pd.DataFrame(X_norm).head())"
   ]
  },
  {
   "cell_type": "markdown",
   "metadata": {
    "collapsed": true
   },
   "source": [
    "**Binarization** is the process of **thresholding numerical features to get boolean values.** Similar to encoding categorical feature, binazation set feature values to 0 or 1 according to a threshold, i.e., Values greater than the threshold map to 1, while values less than or equal to the threshold map to 0. \n",
    "Binarization is a common operation on count data when only considering the presence or absence of a feature rather than a quantified number of occurrences for instance.\n"
   ]
  },
  {
   "cell_type": "code",
   "execution_count": 136,
   "metadata": {},
   "outputs": [
    {
     "name": "stdout",
     "output_type": "stream",
     "text": [
      "     0    1    2    3\n",
      "0  1.0  1.0  1.0  0.0\n",
      "1  1.0  1.0  1.0  0.0\n",
      "2  1.0  1.0  1.0  0.0\n",
      "3  1.0  1.0  1.0  0.0\n",
      "4  1.0  1.0  1.0  0.0\n"
     ]
    }
   ],
   "source": [
    "from sklearn.preprocessing import Binarizer\n",
    "\n",
    "X_bin = Binarizer(threshold = 1).fit_transform(X) \n",
    "\n",
    "print(pd.DataFrame(X_bin).head())"
   ]
  },
  {
   "cell_type": "markdown",
   "metadata": {},
   "source": [
    "**Imputation of missing value** deal with the missing value issue (often as NaN, empty value, etc.) As ML algorithms implemented in scikit-learn assume that all values in an array are numerical, and that all have and hold meaning, using incomplete datasets to discard entire rows and/or columns containing missing values comes at the price of losing data which may be valuable (even though incomplete). A better strategy is to impute the missing values, i.e., to infer them from the known part of the data.\n",
    "\n",
    "The _Imputer_ class provides basic strategies for imputing missing values, either using the mean, the median or the most frequent value of the row or column in which the missing values are located. "
   ]
  },
  {
   "cell_type": "code",
   "execution_count": 145,
   "metadata": {},
   "outputs": [
    {
     "name": "stdout",
     "output_type": "stream",
     "text": [
      "[[ 4.          2.        ]\n",
      " [ 6.          3.66666667]\n",
      " [ 7.          6.        ]]\n"
     ]
    }
   ],
   "source": [
    "from sklearn.preprocessing import Imputer\n",
    "# If axis=0, then impute along columns. The imputation strategy include mean, median and most_frequent\n",
    "imp = Imputer(missing_values='NaN', strategy='mean', axis=0)\n",
    "imp.fit([[1, 2], [np.nan, 3], [7, 6]])\n",
    "print(imp.transform([[np.nan, 2], [6, np.nan], [7, 6]]))"
   ]
  },
  {
   "cell_type": "markdown",
   "metadata": {},
   "source": [
    "**Polynomial features** adds complexity to the model by considering nonlinear features of the input data. For example, polynomial feature generates high-order and interaction terms from $(X_1, X_2)$ to $(1, X_1, X_2, X_1^2, X_1X_2, X_2^2)$"
   ]
  },
  {
   "cell_type": "code",
   "execution_count": 150,
   "metadata": {},
   "outputs": [
    {
     "name": "stdout",
     "output_type": "stream",
     "text": [
      "     0    1    2      3      4      5\n",
      "0  1.0  5.1  3.5  26.01  17.85  12.25\n",
      "1  1.0  4.9  3.0  24.01  14.70   9.00\n",
      "2  1.0  4.7  3.2  22.09  15.04  10.24\n",
      "3  1.0  4.6  3.1  21.16  14.26   9.61\n",
      "4  1.0  5.0  3.6  25.00  18.00  12.96\n"
     ]
    }
   ],
   "source": [
    "from sklearn.preprocessing import PolynomialFeatures\n",
    "\n",
    "X_poly = PolynomialFeatures(2).fit_transform(X[:, :2] )\n",
    "print(pd.DataFrame(X_poly).head())"
   ]
  },
  {
   "cell_type": "markdown",
   "metadata": {},
   "source": [
    "### Feature Selction\n",
    "\n",
    "**Feature selection**, is the process of selecting a subset of relevant features from a high-dimensional feature space for use in model construction (after _feature explosion_ from e.g. feature extraction and transformations). Generally, it can enhance generalization by reducing overfitting, simplify the model to be trained and interpreted. \n",
    "\n",
    "Simple feature selection such as univariate feature selection works by selecting the best features based on univariate statistical tests. "
   ]
  },
  {
   "cell_type": "code",
   "execution_count": 157,
   "metadata": {},
   "outputs": [
    {
     "data": {
      "text/plain": [
       "<Container object of 4 artists>"
      ]
     },
     "execution_count": 157,
     "metadata": {},
     "output_type": "execute_result"
    },
    {
     "data": {
      "image/png": "[encoded data removed]",
      "text/plain": [
       "<matplotlib.figure.Figure at 0x7f76173301d0>"
      ]
     },
     "metadata": {},
     "output_type": "display_data"
    }
   ],
   "source": [
    "from sklearn.feature_selection import  SelectPercentile, f_classif\n",
    "\n",
    "plt.figure(1)\n",
    "plt.clf()\n",
    "\n",
    "X_indices = np.arange(X.shape[-1])\n",
    "\n",
    "#Univariate feature selection with F-test for feature scoring\n",
    "selector = SelectPercentile(f_classif, percentile=10)\n",
    "selector.fit(X, y)\n",
    "scores = -np.log10(selector.pvalues_)\n",
    "scores /= scores.max()\n",
    "plt.bar(X_indices - .45, scores, width=.2,\n",
    "        label=r'Univariate score ($-Log(p_{value})$)', color='red')"
   ]
  },
  {
   "cell_type": "markdown",
   "metadata": {},
   "source": [
    "**Recursive feature elimination** selects features by recursively considering smaller and smaller sets of features. First, the estimator is trained on the initial set of features and weights are assigned to each one of them. Then, features whose absolute weights are the smallest are pruned from the current set features. That procedure is recursively repeated on the pruned set until the desired number of features to select is eventually reached."
   ]
  },
  {
   "cell_type": "code",
   "execution_count": 159,
   "metadata": {},
   "outputs": [
    {
     "name": "stdout",
     "output_type": "stream",
     "text": [
      "[False  True  True  True]\n",
      "[2 1 1 1]\n"
     ]
    }
   ],
   "source": [
    "from sklearn.svm import LinearSVC\n",
    "from sklearn.feature_selection import RFE\n",
    "\n",
    "svm = LinearSVC()\n",
    "# create the RFE model for the svm classifier \n",
    "# and select attributes\n",
    "rfe = RFE(svm, 3)\n",
    "rfe = rfe.fit(X, y)\n",
    "# print summaries for the selection of attributes\n",
    "print(rfe.support_)\n",
    "print(rfe.ranking_)"
   ]
  },
  {
   "cell_type": "markdown",
   "metadata": {},
   "source": [
    "**Tree-based feature selection** can be used to compute feature importances, which in turn can be used to discard irrelevant features"
   ]
  },
  {
   "cell_type": "code",
   "execution_count": 161,
   "metadata": {},
   "outputs": [
    {
     "name": "stdout",
     "output_type": "stream",
     "text": [
      "Feature ranking:\n",
      "1. feature 3 (0.436920)\n",
      "2. feature 2 (0.420234)\n",
      "3. feature 0 (0.078254)\n",
      "4. feature 1 (0.064592)\n"
     ]
    }
   ],
   "source": [
    "from sklearn.ensemble import ExtraTreesClassifier\n",
    "\n",
    "# Build a forest and compute the feature importances\n",
    "forest = ExtraTreesClassifier(n_estimators=50,\n",
    "                              random_state=0)\n",
    "\n",
    "forest.fit(X, y)\n",
    "\n",
    "importances = forest.feature_importances_\n",
    "std = np.std([tree.feature_importances_ for tree in forest.estimators_],\n",
    "             axis=0)\n",
    "indices = np.argsort(importances)[::-1]\n",
    "\n",
    "# Print the feature ranking\n",
    "print(\"Feature ranking:\")\n",
    "\n",
    "for f in range(X.shape[1]):\n",
    "    print(\"%d. feature %d (%f)\" % (f + 1, indices[f], importances[indices[f]]))\n"
   ]
  },
  {
   "cell_type": "code",
   "execution_count": 210,
   "metadata": {},
   "outputs": [
    {
     "data": {
      "image/png": "[encoded data removed]",
      "text/plain": [
       "<matplotlib.figure.Figure at 0x7f7614e6df10>"
      ]
     },
     "metadata": {},
     "output_type": "display_data"
    }
   ],
   "source": [
    "def visuvalize_petal_data(X_data, desc):\n",
    "    \n",
    "    plt.scatter(X_data[:, 0], X_data[:, 1], c=y, cmap=plt.cm.RdYlGn)\n",
    "    plt.xlabel('Petal length')\n",
    "    plt.ylabel('Petal width')\n",
    "    plt.title(desc)\n",
    "    #plt.show()\n",
    "\n",
    "\n",
    "plt.subplot(2, 2, 1)  \n",
    "visuvalize_petal_data(X, 'Original Feature')\n",
    "plt.subplot(2, 2, 2)  \n",
    "visuvalize_petal_data(standardized_X, 'Standardized Feature')\n",
    "plt.subplot(2, 2, 3)  \n",
    "visuvalize_petal_data(X_minmax, 'Standardized Feature')\n",
    "plt.subplot(2, 2, 4)\n",
    "visuvalize_petal_data(X_norm, 'Normalized Feature')\n",
    "\n",
    "plt.tight_layout()\n",
    "plt.show()"
   ]
  },
  {
   "cell_type": "code",
   "execution_count": null,
   "metadata": {
    "collapsed": true
   },
   "outputs": [],
   "source": []
  }
 ],
 "metadata": {
  "kernelspec": {
   "display_name": "Python 2",
   "language": "python",
   "name": "python2"
  },
  "language_info": {
   "codemirror_mode": {
    "name": "ipython",
    "version": 2
   },
   "file_extension": ".py",
   "mimetype": "text/x-python",
   "name": "python",
   "nbconvert_exporter": "python",
   "pygments_lexer": "ipython2",
   "version": "2.7.13"
  }
 },
 "nbformat": 4,
 "nbformat_minor": 2
}
